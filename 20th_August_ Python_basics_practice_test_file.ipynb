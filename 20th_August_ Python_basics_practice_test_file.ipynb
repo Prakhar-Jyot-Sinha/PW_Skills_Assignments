{
 "cells": [
  {
   "cell_type": "markdown",
   "id": "16e4d246-0306-4efa-adad-96f4ada49c02",
   "metadata": {},
   "source": [
    "## TOPIC: String Based Assignment Problem"
   ]
  },
  {
   "cell_type": "markdown",
   "id": "01f78553-49af-4464-ae69-9796ade27ed4",
   "metadata": {},
   "source": [
    "1. Write a program to reverse a string."
   ]
  },
  {
   "cell_type": "code",
   "execution_count": 4,
   "id": "061a6da9-da79-4224-a004-27fcc28ac6ab",
   "metadata": {},
   "outputs": [
    {
     "data": {
      "text/plain": [
       "'dlroW olleH'"
      ]
     },
     "execution_count": 4,
     "metadata": {},
     "output_type": "execute_result"
    }
   ],
   "source": [
    "s = 'Hello World'\n",
    "reversed_st = s[::-1]\n",
    "\n",
    "reversed_st"
   ]
  },
  {
   "cell_type": "markdown",
   "id": "8ff0bf90-f675-41a9-bb82-eaeea9048d9e",
   "metadata": {},
   "source": [
    "2. Check if a string is a palindrome."
   ]
  },
  {
   "cell_type": "code",
   "execution_count": 5,
   "id": "88447dfe-ff66-4534-8753-d6db661921d4",
   "metadata": {},
   "outputs": [
    {
     "name": "stdout",
     "output_type": "stream",
     "text": [
      "True, its a palindrome\n"
     ]
    }
   ],
   "source": [
    "s = 'abcdcba'\n",
    "rev_st = s[::-1] #reversing string using slicing to check palindrome\n",
    "\n",
    "if s==rev_st:\n",
    "    print('True, its a palindrome')\n",
    "else:\n",
    "    print('False, its not a palindrome')"
   ]
  },
  {
   "cell_type": "markdown",
   "id": "674e6de9-cfbb-499f-b973-afd2bc2a5273",
   "metadata": {},
   "source": [
    "3. Convert a string to uppercase."
   ]
  },
  {
   "cell_type": "code",
   "execution_count": 11,
   "id": "1189240f-e9c4-479c-90b3-d4a7185a9c56",
   "metadata": {},
   "outputs": [
    {
     "name": "stdout",
     "output_type": "stream",
     "text": [
      "Given String:  hello world\n",
      "Result:  HELLO WORLD\n"
     ]
    }
   ],
   "source": [
    "s = 'hello world'\n",
    "print('Given String: ',s)\n",
    "\n",
    "upper_case = s.upper()\n",
    "\n",
    "print('Result: ', upper_case)"
   ]
  },
  {
   "cell_type": "markdown",
   "id": "1f71fe7a-dfe7-4393-b168-db8e9acadc2d",
   "metadata": {},
   "source": [
    "4. Convert a string to lowercase."
   ]
  },
  {
   "cell_type": "code",
   "execution_count": 12,
   "id": "f21c990c-24e6-467a-b250-fb72589caf2e",
   "metadata": {},
   "outputs": [
    {
     "name": "stdout",
     "output_type": "stream",
     "text": [
      "Given String:  HELLO WORLD\n",
      "Result:  hello world\n"
     ]
    }
   ],
   "source": [
    "s = 'HELLO WORLD'\n",
    "print('Given String: ',s)\n",
    "\n",
    "lower_case = s.lower()\n",
    "\n",
    "print('Result: ', lower_case)"
   ]
  },
  {
   "cell_type": "markdown",
   "id": "fb48e610-ab0b-48ae-82ef-1a4e52df38a7",
   "metadata": {},
   "source": [
    "5. Count the number of vowels in a string."
   ]
  },
  {
   "cell_type": "code",
   "execution_count": 15,
   "id": "8db6ead6-e417-4dc2-8feb-1e7254fcc933",
   "metadata": {},
   "outputs": [
    {
     "name": "stdout",
     "output_type": "stream",
     "text": [
      "Given String:  i live in hyderabad\n",
      "Number of vowels present in the given string are:  7\n"
     ]
    }
   ],
   "source": [
    "s = 'I live in Hyderabad'\n",
    "s = s.lower() #as pyhthon is case sensitive so changing all char to lower case\n",
    "\n",
    "print('Given String: ',s)\n",
    "\n",
    "count = 0\n",
    "#using loop to count vowels in sentense\n",
    "for i in s:\n",
    "    if i in ['a', 'e', 'i', 'o', 'u']:\n",
    "        count=count+1\n",
    "\n",
    "print('Number of vowels present in the given string are: ', count)"
   ]
  },
  {
   "cell_type": "markdown",
   "id": "bbcf1339-21bf-4072-8929-9d5fca1ebdc9",
   "metadata": {},
   "source": [
    "6. Count the number of consonants in a string."
   ]
  },
  {
   "cell_type": "code",
   "execution_count": 16,
   "id": "e4adb061-87b4-4c9d-a853-7890f1144602",
   "metadata": {},
   "outputs": [
    {
     "name": "stdout",
     "output_type": "stream",
     "text": [
      "Given String:  i live in hyderabad\n",
      "Number of vowels present in the given string are:  12\n"
     ]
    }
   ],
   "source": [
    "s = 'I live in Hyderabad'\n",
    "s = s.lower() #as pyhthon is case sensitive so changing all char to lower case\n",
    "\n",
    "print('Given String: ',s)\n",
    "\n",
    "count = 0\n",
    "#using loop to count vowels in sentense\n",
    "for i in s:\n",
    "    if i not in ['a', 'e', 'i', 'o', 'u']:\n",
    "        count=count+1\n",
    "\n",
    "print('Number of vowels present in the given string are: ', count)"
   ]
  },
  {
   "cell_type": "markdown",
   "id": "fb67b414-1e18-479f-b88b-3cb135729232",
   "metadata": {},
   "source": [
    "7. Remove all whitespaces from a string."
   ]
  },
  {
   "cell_type": "code",
   "execution_count": 19,
   "id": "46a201f8-bd2c-4289-8bcf-fd89ad9ea876",
   "metadata": {},
   "outputs": [
    {
     "name": "stdout",
     "output_type": "stream",
     "text": [
      "Given:  I live in Hyderabad\n",
      "Result without spaces:  IliveinHyderabad\n"
     ]
    }
   ],
   "source": [
    "s = 'I live in Hyderabad'\n",
    "\n",
    "print('Given: ',s)\n",
    "\n",
    "s = s.replace(\" \", \"\") #usimg replace funtion to replace space with no-space from the sentence\n",
    "print('Result without spaces: ', s)"
   ]
  },
  {
   "cell_type": "markdown",
   "id": "ac7ea453-85b3-40db-9229-6e8995d29a58",
   "metadata": {},
   "source": [
    "8. Find the length of a string without using the `len()` function."
   ]
  },
  {
   "cell_type": "code",
   "execution_count": 20,
   "id": "d9ec4526-b073-49fb-af2a-015470f87bbc",
   "metadata": {},
   "outputs": [
    {
     "name": "stdout",
     "output_type": "stream",
     "text": [
      "Lenght of string is:  11\n"
     ]
    }
   ],
   "source": [
    "s = 'Hello World'\n",
    "\n",
    "len_st = 0\n",
    "\n",
    "for i in s:\n",
    "    len_st = len_st+1\n",
    "    \n",
    "print('Lenght of string is: ', len_st)"
   ]
  },
  {
   "cell_type": "markdown",
   "id": "1f87ad46-ddb9-4d58-83da-9b9035b69f8b",
   "metadata": {},
   "source": [
    "9. Check if a string contains a specific word."
   ]
  },
  {
   "cell_type": "code",
   "execution_count": 24,
   "id": "da8d5b83-1736-496f-8b4d-eb096a21558c",
   "metadata": {},
   "outputs": [
    {
     "name": "stdout",
     "output_type": "stream",
     "text": [
      "Yes its present\n"
     ]
    }
   ],
   "source": [
    "s = 'Hello World'\n",
    "\n",
    "specWorld = \"d\"\n",
    "\n",
    "if specWorld in s:\n",
    "    print('Yes its present')\n",
    "else:\n",
    "    print('No its not')"
   ]
  },
  {
   "cell_type": "markdown",
   "id": "e7823aee-0a70-4455-a7bf-196787ba51f3",
   "metadata": {},
   "source": [
    "10. Replace a word in a string with another word."
   ]
  },
  {
   "cell_type": "code",
   "execution_count": 25,
   "id": "c0599603-d970-47a1-9b8c-47e893e0e9e9",
   "metadata": {},
   "outputs": [
    {
     "name": "stdout",
     "output_type": "stream",
     "text": [
      "Given:  I live in Hyderabad\n",
      "Result with replacement:  I live in Mumbai\n"
     ]
    }
   ],
   "source": [
    "s = 'I live in Hyderabad'\n",
    "\n",
    "print('Given: ',s)\n",
    "\n",
    "s = s.replace(\"Hyderabad\", \"Mumbai\") #usimg replace funtion to replace space with no-space from the sentence\n",
    "print('Result with replacement: ', s)"
   ]
  },
  {
   "cell_type": "markdown",
   "id": "c10edf59-2fc0-4f53-adea-9a1352197f1b",
   "metadata": {},
   "source": [
    "11. Count the occurrences of a word in a string."
   ]
  },
  {
   "cell_type": "code",
   "execution_count": 32,
   "id": "c63d1457-c840-4ec0-9a72-07edef50abbf",
   "metadata": {},
   "outputs": [
    {
     "name": "stdout",
     "output_type": "stream",
     "text": [
      "3\n"
     ]
    }
   ],
   "source": [
    "s = 'I live in Hyderabad and in mumbai and in Aurangabad'\n",
    "\n",
    "check_word = 'in'\n",
    "count = 0\n",
    "for i in s.split():\n",
    "    if check_word == i:\n",
    "        count +=1\n",
    "        \n",
    "print(count)\n",
    "        "
   ]
  },
  {
   "cell_type": "markdown",
   "id": "8ef13711-ad86-40e7-b8bc-1ff8d4676ad9",
   "metadata": {},
   "source": [
    "12. Find the first occurrence of a word in a string."
   ]
  },
  {
   "cell_type": "code",
   "execution_count": 17,
   "id": "c82caef7-4f2c-4833-ac55-6b304d49aa4f",
   "metadata": {},
   "outputs": [
    {
     "name": "stdout",
     "output_type": "stream",
     "text": [
      "Index:  7\n",
      "First occurence of the word is at 2 position in the sentence\n"
     ]
    }
   ],
   "source": [
    "s = 'I live in Hyderabad and in Mumbai and in Aurangabad'\n",
    "word_check = 'in'\n",
    "\n",
    "print('Index: ',s.index('in'))\n",
    "\n",
    "l = s.split()\n",
    "\n",
    "for i in range(0,len(l)):\n",
    "    if l[i]==word_check:\n",
    "        print(f'First occurence of the word is at {i} position in the sentence')\n",
    "        break"
   ]
  },
  {
   "cell_type": "markdown",
   "id": "ae8c61ee-f8af-45af-bfaa-75233a2cc680",
   "metadata": {},
   "source": [
    "13. Find the last occurrence of a word in a string."
   ]
  },
  {
   "cell_type": "code",
   "execution_count": 18,
   "id": "b91a21ca-9810-4e8b-8f4d-367e6bde0961",
   "metadata": {},
   "outputs": [
    {
     "name": "stdout",
     "output_type": "stream",
     "text": [
      "Index:  38\n",
      "Last occurence of the word is at 8 position in the sentence\n"
     ]
    }
   ],
   "source": [
    "s = 'I live in Hyderabad and in Mumbai and in Aurangabad'\n",
    "word_check = 'in'\n",
    "\n",
    "print('Index: ',s.rindex('in'))\n",
    "\n",
    "l = s.split()\n",
    "\n",
    "p= []\n",
    "\n",
    "for i in range(0,len(l)):\n",
    "    if l[i]==word_check:\n",
    "        p.append(i)   \n",
    "        \n",
    "print(f'Last occurence of the word is at {p[-1]} position in the sentence')\n",
    "        "
   ]
  },
  {
   "cell_type": "markdown",
   "id": "ea49f619-1356-4bdb-8cdb-9c43a1a4cee4",
   "metadata": {},
   "source": [
    "14. Split a string into a list of words."
   ]
  },
  {
   "cell_type": "code",
   "execution_count": 20,
   "id": "ba639929-bf2d-4870-a52b-25da86316fad",
   "metadata": {},
   "outputs": [
    {
     "name": "stdout",
     "output_type": "stream",
     "text": [
      "['I', 'live', 'in', 'Hyderabad', 'and', 'in', 'Mumbai', 'and', 'in', 'Aurangabad']\n"
     ]
    }
   ],
   "source": [
    "s = 'I live in Hyderabad and in Mumbai and in Aurangabad'\n",
    "\n",
    "l = s.split()\n",
    "\n",
    "print(l)"
   ]
  },
  {
   "cell_type": "markdown",
   "id": "4681b5e2-d8a2-4025-9ff7-447bcae0aa9c",
   "metadata": {},
   "source": [
    "15. Join a list of words into a string."
   ]
  },
  {
   "cell_type": "code",
   "execution_count": 22,
   "id": "ce01bf62-fe7a-4fca-be76-961757a402b4",
   "metadata": {},
   "outputs": [
    {
     "name": "stdout",
     "output_type": "stream",
     "text": [
      "I live in Hyderabad and in Mumbai and in Aurangabad\n"
     ]
    }
   ],
   "source": [
    "l = ['I', 'live', 'in', 'Hyderabad', 'and', 'in', 'Mumbai', 'and', 'in', 'Aurangabad']\n",
    "\n",
    "st = ' '.join(l)\n",
    "\n",
    "print(st)"
   ]
  },
  {
   "cell_type": "markdown",
   "id": "06058d9f-778a-455c-80c2-1aade89c09d8",
   "metadata": {},
   "source": [
    "16. Convert a string where words are separated by spaces to one where words\n",
    "are separated by underscores."
   ]
  },
  {
   "cell_type": "code",
   "execution_count": 24,
   "id": "5b6987c2-9e62-4e54-8d4f-e3cd2fe01cba",
   "metadata": {},
   "outputs": [
    {
     "data": {
      "text/plain": [
       "'I_live_in_Hyderabad_and_in_Mumbai_and_in_Aurangabad'"
      ]
     },
     "execution_count": 24,
     "metadata": {},
     "output_type": "execute_result"
    }
   ],
   "source": [
    "s = 'I live in Hyderabad and in Mumbai and in Aurangabad'\n",
    "\n",
    "rp = s.replace(\" \", '_')\n",
    "\n",
    "rp"
   ]
  },
  {
   "cell_type": "markdown",
   "id": "b4d87609-4c37-46dc-95b1-98341749efe9",
   "metadata": {},
   "source": [
    "17. Check if a string starts with a specific word or phrase."
   ]
  },
  {
   "cell_type": "code",
   "execution_count": 27,
   "id": "ade1c7b7-7c5c-4f85-9b8b-57b09f9f0310",
   "metadata": {},
   "outputs": [
    {
     "name": "stdout",
     "output_type": "stream",
     "text": [
      "True\n",
      "False\n"
     ]
    }
   ],
   "source": [
    "s = 'I live in Hyderabad and in Mumbai and in Aurangabad'\n",
    "\n",
    "print(s.lower().startswith('i live in'))\n",
    "\n",
    "\n",
    "print(s.lower().startswith('in mumbai'))"
   ]
  },
  {
   "cell_type": "markdown",
   "id": "6125ca5c-e3d0-4db7-83e2-ebfdb65d20b8",
   "metadata": {},
   "source": [
    "18. Check if a string ends with a specific word or phrase."
   ]
  },
  {
   "cell_type": "code",
   "execution_count": 32,
   "id": "e9adfcf9-f025-4b35-9479-540f1a226852",
   "metadata": {},
   "outputs": [
    {
     "name": "stdout",
     "output_type": "stream",
     "text": [
      "True\n",
      "False\n"
     ]
    }
   ],
   "source": [
    "s = 'I live in Hyderabad and in Mumbai and in Aurangabad'\n",
    "\n",
    "print(s.lower().endswith('in aurangabad'))\n",
    "\n",
    "\n",
    "print(s.lower().endswith('in mumbai'))"
   ]
  },
  {
   "cell_type": "markdown",
   "id": "01acf113-8b2d-4a05-8cde-7f0154ba57be",
   "metadata": {},
   "source": [
    "19. Convert a string to title case (e.g., \"hello world\" to \"Hello World\")."
   ]
  },
  {
   "cell_type": "markdown",
   "id": "a2555842-024b-4d9b-926d-d276f2176e01",
   "metadata": {},
   "source": [
    "s = 'hello world'\n",
    "\n",
    "print(s.title())"
   ]
  },
  {
   "cell_type": "markdown",
   "id": "e54b4047-c65d-4913-b3db-b7fb419c3db5",
   "metadata": {},
   "source": [
    "20. Find the longest word in a string."
   ]
  },
  {
   "cell_type": "code",
   "execution_count": 46,
   "id": "b69e2e9a-bfa7-4044-a880-2a958a3d9bef",
   "metadata": {},
   "outputs": [
    {
     "data": {
      "text/plain": [
       "'Aurangabad'"
      ]
     },
     "execution_count": 46,
     "metadata": {},
     "output_type": "execute_result"
    }
   ],
   "source": [
    "s = 'I live in Hyderabad and in Mumbai and in Aurangabad'\n",
    "\n",
    "l = s.split()\n",
    "l = sorted(l, key = len)\n",
    "\n",
    "l[-1]"
   ]
  },
  {
   "cell_type": "markdown",
   "id": "83531cba-8107-4023-8b72-cc9cba599303",
   "metadata": {},
   "source": [
    "21. Find the shortest word in a string."
   ]
  },
  {
   "cell_type": "code",
   "execution_count": 47,
   "id": "c999a4a8-3512-4db3-a2cb-4a4d3e6d44c3",
   "metadata": {},
   "outputs": [
    {
     "data": {
      "text/plain": [
       "'I'"
      ]
     },
     "execution_count": 47,
     "metadata": {},
     "output_type": "execute_result"
    }
   ],
   "source": [
    "s = 'I live in Hyderabad and in Mumbai and in Aurangabad'\n",
    "\n",
    "l = s.split()\n",
    "l = sorted(l, key = len)\n",
    "\n",
    "l[0]"
   ]
  },
  {
   "cell_type": "markdown",
   "id": "d839eea9-ae0c-4c01-840e-43d5354c83b0",
   "metadata": {},
   "source": [
    "22. Reverse the order of words in a string."
   ]
  },
  {
   "cell_type": "code",
   "execution_count": 48,
   "id": "e45c0dd9-b277-4fbd-8e73-4a7b4ebf7e4f",
   "metadata": {},
   "outputs": [
    {
     "data": {
      "text/plain": [
       "'Aurangabad in and Mumbai in and Hyderabad in live I'"
      ]
     },
     "execution_count": 48,
     "metadata": {},
     "output_type": "execute_result"
    }
   ],
   "source": [
    "s = 'I live in Hyderabad and in Mumbai and in Aurangabad'\n",
    "\n",
    "l = s.split()\n",
    "\n",
    "s = \" \".join(l[::-1])\n",
    "\n",
    "s"
   ]
  },
  {
   "cell_type": "markdown",
   "id": "dd4e2ef6-8518-4827-bb90-f48936f45020",
   "metadata": {},
   "source": [
    "23. Check if a string is alphanumeric."
   ]
  },
  {
   "cell_type": "code",
   "execution_count": 50,
   "id": "6946cbd5-60b0-456d-8657-e400691e19b2",
   "metadata": {},
   "outputs": [
    {
     "name": "stdout",
     "output_type": "stream",
     "text": [
      "False\n",
      "True\n"
     ]
    }
   ],
   "source": [
    "s = \"Prakhar_Sinha\"\n",
    "m = 'Pra1234'\n",
    "\n",
    "print(s.isalnum())\n",
    "print(m.isalnum())"
   ]
  },
  {
   "cell_type": "markdown",
   "id": "ddd04077-d517-42ca-b986-4d68eec715b8",
   "metadata": {},
   "source": [
    "24. Extract all digits from a string."
   ]
  },
  {
   "cell_type": "code",
   "execution_count": 52,
   "id": "faf408b8-94a9-4e1a-8508-163fff9580f3",
   "metadata": {},
   "outputs": [
    {
     "name": "stdout",
     "output_type": "stream",
     "text": [
      "[5, 6, 3]\n"
     ]
    }
   ],
   "source": [
    "s = 'I lived in hyd for 5 yrs and in mumbai for 6 and in aurangabad for 3 yrs'\n",
    "\n",
    "l = s.split()\n",
    "num = []\n",
    "for i in l:\n",
    "    if i.isdigit():\n",
    "        num.append(int(i))\n",
    "        \n",
    "print(num)"
   ]
  },
  {
   "cell_type": "markdown",
   "id": "beb1eac1-fc32-44a6-b585-572dbce42741",
   "metadata": {},
   "source": [
    "25. Extract all alphabets from a string."
   ]
  },
  {
   "cell_type": "code",
   "execution_count": 54,
   "id": "2306a20e-61a9-4bd5-b3d8-a3ea5c814e72",
   "metadata": {},
   "outputs": [
    {
     "name": "stdout",
     "output_type": "stream",
     "text": [
      "['I', 'lived', 'in', 'hyd', 'for', 'yrs', 'and', 'in', 'mumbai', 'for', 'and', 'in', 'aurangabad', 'for', 'yrs']\n"
     ]
    }
   ],
   "source": [
    "s = 'I lived in hyd for 5 yrs and in mumbai for 6 and in aurangabad for 3 yrs'\n",
    "\n",
    "l = s.split()\n",
    "alph = []\n",
    "for i in l:\n",
    "    if not i.isdigit():\n",
    "        alph.append(i)\n",
    "        \n",
    "print(alph)"
   ]
  },
  {
   "cell_type": "markdown",
   "id": "c4217d69-e861-4a06-a263-20b85a58ddfb",
   "metadata": {},
   "source": [
    "26. Count the number of uppercase letters in a string."
   ]
  },
  {
   "cell_type": "code",
   "execution_count": 56,
   "id": "0adcf6c2-4915-4605-b07b-431b8fcf059e",
   "metadata": {},
   "outputs": [
    {
     "name": "stdout",
     "output_type": "stream",
     "text": [
      "4\n"
     ]
    }
   ],
   "source": [
    "s = 'IamAGoodBoy'\n",
    "\n",
    "x = []\n",
    "\n",
    "for i in s:\n",
    "    if i.isupper():\n",
    "        x.append(i)\n",
    "        \n",
    "print(len(x))"
   ]
  },
  {
   "cell_type": "markdown",
   "id": "14203d9f-5b52-40fc-9204-0bb9b1b3392a",
   "metadata": {},
   "source": [
    "27. Count the number of lowercase letters in a string."
   ]
  },
  {
   "cell_type": "code",
   "execution_count": 57,
   "id": "170b9748-02b9-4745-aea5-3cefa3bb992b",
   "metadata": {},
   "outputs": [
    {
     "name": "stdout",
     "output_type": "stream",
     "text": [
      "7\n"
     ]
    }
   ],
   "source": [
    "s = 'IamAGoodBoy'\n",
    "\n",
    "x = []\n",
    "\n",
    "for i in s:\n",
    "    if i.islower():\n",
    "        x.append(i)\n",
    "        \n",
    "print(len(x))"
   ]
  },
  {
   "cell_type": "markdown",
   "id": "87c3f3a6-a849-4fd6-9389-30bdab32fcde",
   "metadata": {},
   "source": [
    "28. Swap the case of each character in a string."
   ]
  },
  {
   "cell_type": "code",
   "execution_count": 58,
   "id": "8c0157e3-05e4-4f66-b71c-cdf2078cfc19",
   "metadata": {},
   "outputs": [
    {
     "name": "stdout",
     "output_type": "stream",
     "text": [
      "iAMagOODbOY\n"
     ]
    }
   ],
   "source": [
    "s = 'IamAGoodBoy'\n",
    "\n",
    "print(s.swapcase())"
   ]
  },
  {
   "cell_type": "markdown",
   "id": "40f40f43-3fe5-4d2c-ae96-fd0f789fc2d3",
   "metadata": {},
   "source": [
    "29. Remove a specific word from a string."
   ]
  },
  {
   "cell_type": "code",
   "execution_count": 60,
   "id": "f22b3ae2-eb81-428d-84ce-7d7470ff0a7f",
   "metadata": {},
   "outputs": [
    {
     "data": {
      "text/plain": [
       "'I lived in  for 5 yrs and in mumbai for 6 and in aurangabad for 3 yrs'"
      ]
     },
     "execution_count": 60,
     "metadata": {},
     "output_type": "execute_result"
    }
   ],
   "source": [
    "s = 'I lived in hyd for 5 yrs and in mumbai for 6 and in aurangabad for 3 yrs'\n",
    "\n",
    "s = s.replace('hyd', '') \n",
    "\n",
    "s"
   ]
  },
  {
   "cell_type": "markdown",
   "id": "c4145c38-845f-4294-a5c9-16ec44914e07",
   "metadata": {},
   "source": [
    "30. Check if a string is a valid email address."
   ]
  },
  {
   "cell_type": "code",
   "execution_count": 73,
   "id": "991f2c74-fc3e-4fd4-98ab-0651cddb7b1c",
   "metadata": {},
   "outputs": [
    {
     "name": "stdout",
     "output_type": "stream",
     "text": [
      "Valid Email\n",
      "Valid Email\n"
     ]
    }
   ],
   "source": [
    "import re\n",
    "\n",
    "\n",
    "s = 'pjs@gmail.com'\n",
    "\n",
    "pat = r'\\b[A-Za-z0-9._%+-]+@[A-Za-z0-9.-]+\\.[A-Z|a-z]{2,7}\\b'\n",
    "\n",
    "if re.match(pat,s):\n",
    "    print(\"Valid Email\")\n",
    "else:\n",
    "    print(\"Invalid Email\")\n",
    "\n",
    "# or the other way    \n",
    "\n",
    "if '@' in s and s.endswith('.com'):\n",
    "    print(\"Valid Email\")\n",
    "else:\n",
    "    print(\"Invalid Email\")"
   ]
  },
  {
   "cell_type": "markdown",
   "id": "f941ea1b-c43c-4f8f-b1b1-4ad31b842711",
   "metadata": {},
   "source": [
    "31. Extract the username from an email address string."
   ]
  },
  {
   "cell_type": "code",
   "execution_count": 63,
   "id": "171dbd84-701c-4c35-9888-f24cd886baa1",
   "metadata": {},
   "outputs": [
    {
     "name": "stdout",
     "output_type": "stream",
     "text": [
      "User Name:  pjs\n"
     ]
    }
   ],
   "source": [
    "s = 'pjs@gmail.com'\n",
    "\n",
    "l = s.split('@')\n",
    "\n",
    "print('User Name: ', l[0])"
   ]
  },
  {
   "cell_type": "markdown",
   "id": "3580c403-134f-4dd8-b209-57ba18fa8ca8",
   "metadata": {},
   "source": [
    "32. Extract the domain name from an email address string."
   ]
  },
  {
   "cell_type": "code",
   "execution_count": 65,
   "id": "6cc42237-315a-47c4-bd8e-f67a32b875f6",
   "metadata": {},
   "outputs": [
    {
     "name": "stdout",
     "output_type": "stream",
     "text": [
      "Domain Name:  gmail.com\n"
     ]
    }
   ],
   "source": [
    "s = 'pjs@gmail.com'\n",
    "\n",
    "l = s.split('@')\n",
    "\n",
    "print('Domain Name: ', l[1])"
   ]
  },
  {
   "cell_type": "markdown",
   "id": "407e73db-9d14-48cf-ad0b-a4f74ea57b11",
   "metadata": {},
   "source": [
    "33. Replace multiple spaces in a string with a single space."
   ]
  },
  {
   "cell_type": "code",
   "execution_count": 68,
   "id": "4345cded-aaa4-43bb-a5c1-7fae192bd689",
   "metadata": {},
   "outputs": [
    {
     "name": "stdout",
     "output_type": "stream",
     "text": [
      "I live     in       Hyderabad            and   in      Mumbai     and     in     Aurangabad\n",
      "I live in Hyderabad and in Mumbai and in Aurangabad\n"
     ]
    }
   ],
   "source": [
    "s = 'I live     in       Hyderabad            and   in      Mumbai     and     in     Aurangabad'\n",
    "print(s)\n",
    "\n",
    "s =  ' '.join(s.split())\n",
    "\n",
    "print(s)"
   ]
  },
  {
   "cell_type": "markdown",
   "id": "5d56df98-94d6-4709-9a8d-a1599003680a",
   "metadata": {},
   "source": [
    "34. Check if a string is a valid URL."
   ]
  },
  {
   "cell_type": "code",
   "execution_count": 74,
   "id": "810f7134-4607-4b06-96df-7c10023fd034",
   "metadata": {},
   "outputs": [
    {
     "name": "stdout",
     "output_type": "stream",
     "text": [
      "Valid Url\n"
     ]
    }
   ],
   "source": [
    "s = 'https://www.xyz.com'\n",
    "\n",
    "if s.startswith('https://') and s.endswith('.com'):\n",
    "    print('Valid Url')\n",
    "    \n",
    "else:\n",
    "    print('Not Valid Url')\n",
    "\n",
    "\n"
   ]
  },
  {
   "cell_type": "markdown",
   "id": "5196bf02-dadb-4e01-bb36-414e97f97682",
   "metadata": {},
   "source": [
    "35. Extract the protocol (http or https) from a URL string."
   ]
  },
  {
   "cell_type": "code",
   "execution_count": 76,
   "id": "d4161207-aa6f-4cd1-ae38-133cafc8c942",
   "metadata": {},
   "outputs": [
    {
     "name": "stdout",
     "output_type": "stream",
     "text": [
      "https\n"
     ]
    }
   ],
   "source": [
    "s = 'https://www.xyz.com'\n",
    "\n",
    "if 'http' or 'https' in s:\n",
    "    s1 = s.split(':')\n",
    "    print(s1[0])\n",
    "else:\n",
    "    print('Not a Valid Url')"
   ]
  },
  {
   "cell_type": "markdown",
   "id": "3894df16-a1a1-4cab-9444-fd3bdcb2ddc6",
   "metadata": {},
   "source": [
    "36. Find the frequency of each character in a string."
   ]
  },
  {
   "cell_type": "code",
   "execution_count": 77,
   "id": "5f563ded-8f52-48ed-81b6-646896d42f37",
   "metadata": {},
   "outputs": [
    {
     "name": "stdout",
     "output_type": "stream",
     "text": [
      "{'r': 2, 'i': 1, 'n': 1, 'p': 1, 'y': 1, 't': 1, 'a': 3, 'o': 1, 'j': 1, 'k': 1, 'h': 2, 's': 1}\n"
     ]
    }
   ],
   "source": [
    "string= 'prakhar jyot sinha'\n",
    "string=(string.lower()).replace(' ','')\n",
    "string_list=list(set(string))\n",
    "frequency={}\n",
    "for i in string_list:\n",
    "    frequency[i]=string.count(i)\n",
    "print(frequency)"
   ]
  },
  {
   "cell_type": "markdown",
   "id": "694cb1af-49a1-447a-a7ec-7eea44b6007a",
   "metadata": {},
   "source": [
    "37. Remove all punctuation from a string."
   ]
  },
  {
   "cell_type": "code",
   "execution_count": 83,
   "id": "383d8ebf-b607-48e9-9059-d7c4a18cbbf5",
   "metadata": {},
   "outputs": [
    {
     "name": "stdout",
     "output_type": "stream",
     "text": [
      "Wow what a wnderfull day it was we should do it again\n"
     ]
    }
   ],
   "source": [
    "punc = ['.', '!', ',']\n",
    "\n",
    "s = 'Wow! what a wnderfull day it was, we should do it again.'\n",
    "\n",
    "for i in s:\n",
    "    if i in punc:\n",
    "        s = s.replace(i,\"\")\n",
    "print(s)"
   ]
  },
  {
   "cell_type": "markdown",
   "id": "90a42851-392c-455a-913d-774df32e3fd9",
   "metadata": {},
   "source": [
    "38. Check if a string contains only digits."
   ]
  },
  {
   "cell_type": "code",
   "execution_count": 4,
   "id": "9603a39e-4ca9-4f98-956c-226f57a60b63",
   "metadata": {},
   "outputs": [
    {
     "name": "stdout",
     "output_type": "stream",
     "text": [
      "True\n",
      "False\n"
     ]
    }
   ],
   "source": [
    "s = '123654'\n",
    "m = \"09poi8\"\n",
    "print(s.isdigit())\n",
    "print(m.isdigit())"
   ]
  },
  {
   "cell_type": "markdown",
   "id": "7a7c8f9e-5d71-4dcf-93b8-826b636acea6",
   "metadata": {},
   "source": [
    "39. Check if a string contains only alphabets."
   ]
  },
  {
   "cell_type": "code",
   "execution_count": 5,
   "id": "7415ae8b-81ff-4bb6-abdd-5041626eeda9",
   "metadata": {},
   "outputs": [
    {
     "name": "stdout",
     "output_type": "stream",
     "text": [
      "True\n",
      "False\n"
     ]
    }
   ],
   "source": [
    "s = 'pjs'\n",
    "m = \"09poi8\"\n",
    "print(s.isalpha())\n",
    "print(m.isalpha())"
   ]
  },
  {
   "cell_type": "markdown",
   "id": "93df5851-afbf-4d2e-b9ff-f33c787c3430",
   "metadata": {},
   "source": [
    "40. Convert a string to a list of characters."
   ]
  },
  {
   "cell_type": "code",
   "execution_count": 12,
   "id": "45532e34-570e-47b4-90e8-e108dac34f24",
   "metadata": {},
   "outputs": [
    {
     "data": {
      "text/plain": [
       "['H', 'e', 'l', 'l', 'o', 'W', 'o', 'r', 'l', 'd']"
      ]
     },
     "execution_count": 12,
     "metadata": {},
     "output_type": "execute_result"
    }
   ],
   "source": [
    "s = \"Hello World\"\n",
    "\n",
    "s1 = list(s.replace(\" \",''))\n",
    "s1"
   ]
  },
  {
   "cell_type": "markdown",
   "id": "56a1d1bb-e065-41f2-961a-3abaf2e0faf1",
   "metadata": {},
   "source": [
    "41. Check if two strings are anagrams."
   ]
  },
  {
   "cell_type": "code",
   "execution_count": 13,
   "id": "56800938-0f2f-469c-a777-37aa89dba9eb",
   "metadata": {},
   "outputs": [
    {
     "name": "stdout",
     "output_type": "stream",
     "text": [
      "True\n"
     ]
    }
   ],
   "source": [
    "s1 = \"wolf\"\n",
    "s2 = \"flow\"\n",
    "\n",
    "if sorted(s1.lower()) == sorted(s2.lower()):\n",
    "    print('True')\n",
    "else:\n",
    "    print('False')"
   ]
  },
  {
   "cell_type": "markdown",
   "id": "519293cd-f963-44bb-9dc1-54c199e8a416",
   "metadata": {},
   "source": [
    "42. Encode a string using a Caesar cipher."
   ]
  },
  {
   "cell_type": "code",
   "execution_count": 23,
   "id": "23946361-3c7f-4881-b984-6ca27e294742",
   "metadata": {},
   "outputs": [
    {
     "name": "stdout",
     "output_type": "stream",
     "text": [
      "Given Streing:  PrakharSinha\n",
      "Step:  4\n",
      "Encrypted text:  UwfpmfwXnsmf\n"
     ]
    }
   ],
   "source": [
    "string = 'PrakharSinha'\n",
    "step = 4\n",
    "result = ''\n",
    "\n",
    "for i in range(len(string)):\n",
    "    \n",
    "    c = string[i]\n",
    "    \n",
    "    if c.isupper():\n",
    "        result += chr((ord(c)+step - 64) % 26 + 65)\n",
    "    else:\n",
    "        result += chr((ord(c)+step - 96) % 26 + 97)\n",
    "\n",
    "print('Given Streing: ', string)\n",
    "print('Step: ', step)\n",
    "print('Encrypted text: ', result)"
   ]
  },
  {
   "cell_type": "markdown",
   "id": "dc8932ea-20d1-4f4a-905d-2f4c586fd333",
   "metadata": {},
   "source": [
    "43. Decode a Caesar cipher encoded string."
   ]
  },
  {
   "cell_type": "code",
   "execution_count": 26,
   "id": "3321f000-7e88-4e01-862d-099baba429d6",
   "metadata": {},
   "outputs": [
    {
     "name": "stdout",
     "output_type": "stream",
     "text": [
      "Given Streing:  UwfpmfwXnsmf\n",
      "Step:  4\n",
      "Encrypted text:  PrakharSinha\n"
     ]
    }
   ],
   "source": [
    "string = 'UwfpmfwXnsmf'\n",
    "step = 4\n",
    "result = ''\n",
    "\n",
    "for i in range(len(string)):\n",
    "    \n",
    "    c = string[i]\n",
    "    \n",
    "    if c.isupper():\n",
    "        result += chr((ord(c)-step + 64) % 26 + 65)\n",
    "    else:\n",
    "        result += chr((ord(c)-step + 32) % 26 + 97)\n",
    "\n",
    "print('Given Streing: ', string)\n",
    "print('Step: ', step)\n",
    "print('Encrypted text: ', result)"
   ]
  },
  {
   "cell_type": "markdown",
   "id": "0a1ce3bb-5235-4d85-885d-c5ffc3eb03f7",
   "metadata": {},
   "source": [
    "44. Find the most frequent word in a string."
   ]
  },
  {
   "cell_type": "code",
   "execution_count": 28,
   "id": "1edeffcd-cdb0-42ca-99a2-b3513c267f55",
   "metadata": {},
   "outputs": [
    {
     "name": "stdout",
     "output_type": "stream",
     "text": [
      "{'in': 3, 'hyderabad': 1, 'live': 1, 'mumbai': 1, 'aurangabad': 1, 'i': 1, 'and': 2}\n"
     ]
    }
   ],
   "source": [
    "string= 'I live in Hyderabad and in Mumbai and in Aurangabad'\n",
    "string=(string.lower()).split()\n",
    "string_list=list(set(string))\n",
    "frequency={}\n",
    "for i in string_list:\n",
    "    frequency[i]=string.count(i)\n",
    "print(frequency)"
   ]
  },
  {
   "cell_type": "markdown",
   "id": "860ebef8-5352-4c4d-a51e-0da1b24c53c0",
   "metadata": {},
   "source": [
    "45. Find all unique words in a string."
   ]
  },
  {
   "cell_type": "code",
   "execution_count": 34,
   "id": "258c084c-73b7-432a-bb92-c74e09dd842b",
   "metadata": {},
   "outputs": [
    {
     "name": "stdout",
     "output_type": "stream",
     "text": [
      "hyderabad\n",
      "live\n",
      "mumbai\n",
      "aurangabad\n",
      "i\n"
     ]
    }
   ],
   "source": [
    "string= 'I live in Hyderabad and in Mumbai and in Aurangabad'\n",
    "string=(string.lower()).split()\n",
    "string_list=list(set(string))\n",
    "frequency={}\n",
    "for i in string_list:\n",
    "    frequency[i]=string.count(i)\n",
    "\n",
    "for i in frequency:\n",
    "    if (frequency[i] == 1):\n",
    "        print(i)"
   ]
  },
  {
   "cell_type": "markdown",
   "id": "3f9d0355-5a5f-4b4c-981e-524d476b7a9b",
   "metadata": {},
   "source": [
    "46. Count the number of syllables in a string."
   ]
  },
  {
   "cell_type": "code",
   "execution_count": 37,
   "id": "369df1f8-ed2e-4f18-8bdb-285ec0ed934b",
   "metadata": {},
   "outputs": [
    {
     "name": "stdout",
     "output_type": "stream",
     "text": [
      "4\n"
     ]
    }
   ],
   "source": [
    "w = 'Taarak Mehta'\n",
    "w = w.lower()\n",
    "c = 0\n",
    "v = \"aeiouy\"\n",
    "\n",
    "if w[0] in v:\n",
    "    c += 1\n",
    "for i in range(1, len(w)):\n",
    "    if w[i] in v and w[i - 1] not in v:\n",
    "        c += 1\n",
    "if w.endswith(\"e\"):\n",
    "    c -= 1\n",
    "if c == 0:\n",
    "    c += 1\n",
    "    \n",
    "\n",
    "print(c) "
   ]
  },
  {
   "cell_type": "markdown",
   "id": "fb26f199-71de-4737-9bde-d8d40b8042ef",
   "metadata": {},
   "source": [
    "47. Check if a string contains any special characters."
   ]
  },
  {
   "cell_type": "code",
   "execution_count": 42,
   "id": "e0819e6a-07f2-47f3-8c4d-c1070b46dc0e",
   "metadata": {},
   "outputs": [
    {
     "name": "stdout",
     "output_type": "stream",
     "text": [
      "True, string contains special characters\n"
     ]
    }
   ],
   "source": [
    "s  = 'prakharjai@gmail.com'\n",
    "\n",
    "sc = ['\"', '!', '\"', '#', '$', '%', '&', \"'\", '(', ')', '*', '+', ',', '-', '.', '/', ':', ';', '<', '=', '>', '?', '@', '[',  ']', '^', '_', '`', '{', '|', '}', '~', '\"']\n",
    "flag = True\n",
    "for i in s:\n",
    "    if i in sc:\n",
    "        print('True, string contains special characters')\n",
    "        flag = False\n",
    "        break\n",
    "    \n",
    "if flag:\n",
    "    print('False, string does not contain special characters')   "
   ]
  },
  {
   "cell_type": "markdown",
   "id": "a5923ab2-1110-4707-a97d-c4e478f8d109",
   "metadata": {},
   "source": [
    "48. Remove the nth word from a string."
   ]
  },
  {
   "cell_type": "code",
   "execution_count": 50,
   "id": "baa61829-5bb5-45ef-8d54-b92c4584fd94",
   "metadata": {},
   "outputs": [
    {
     "name": "stdout",
     "output_type": "stream",
     "text": [
      "I live in and in Mumbai and in Aurangabad\n",
      "Removed word:  Hyderabad\n"
     ]
    }
   ],
   "source": [
    "s = 'I live in Hyderabad and in Mumbai and in Aurangabad'\n",
    "index_to_remove=3\n",
    "slist = s.split()\n",
    "\n",
    "rm_wd = slist.pop(index_to_remove)\n",
    "s1 = \" \".join(slist)\n",
    "print(s1)\n",
    "print('Removed word: ',rm_wd)"
   ]
  },
  {
   "cell_type": "markdown",
   "id": "23f47a3d-1579-4c05-bff3-ba039daac24a",
   "metadata": {},
   "source": [
    "49. Insert a word at the nth position in a string."
   ]
  },
  {
   "cell_type": "code",
   "execution_count": 54,
   "id": "27f17d06-7844-491b-91e3-152bfa0f1800",
   "metadata": {},
   "outputs": [
    {
     "name": "stdout",
     "output_type": "stream",
     "text": [
      "I live in the Hyderabad and in Mumbai and in Aurangabad\n"
     ]
    }
   ],
   "source": [
    "s = 'I live in Hyderabad and in Mumbai and in Aurangabad'\n",
    "word_to_add = 'the'\n",
    "index_to_add=3\n",
    "slist = s.split()\n",
    "\n",
    "slist.insert(index_to_add, word_to_add)\n",
    "s1 = \" \".join(slist)\n",
    "print(s1)"
   ]
  },
  {
   "cell_type": "markdown",
   "id": "baf14ce5-1892-4f5e-91ac-4b9d4fe36faf",
   "metadata": {},
   "source": [
    "50. Convert a CSV string to a list of lists."
   ]
  },
  {
   "cell_type": "code",
   "execution_count": 56,
   "id": "e70d834b-d104-46b8-8c16-44a8e1fb8904",
   "metadata": {},
   "outputs": [],
   "source": [
    "s = \"[[['delivery_time', 'waiting_time'], ['short']], [['delivery'], ['fast']], [['delivery'], ['really'], ['great']]]\"\n",
    "\n"
   ]
  },
  {
   "cell_type": "markdown",
   "id": "490b3860-fec3-4134-bd38-e96bbb6e58fc",
   "metadata": {},
   "source": [
    "## List Based Practice Problem :"
   ]
  },
  {
   "cell_type": "markdown",
   "id": "b822bdb8-847d-44f0-b2a5-6c506cf3b913",
   "metadata": {},
   "source": [
    "1. Create a list with integers from 1 to 10."
   ]
  },
  {
   "cell_type": "code",
   "execution_count": 58,
   "id": "e66d618d-fd49-400e-81f3-592101f6e8a0",
   "metadata": {},
   "outputs": [
    {
     "data": {
      "text/plain": [
       "[1, 2, 3, 4, 5, 6, 7, 8, 9, 10]"
      ]
     },
     "execution_count": 58,
     "metadata": {},
     "output_type": "execute_result"
    }
   ],
   "source": [
    "x = [i for i in range(1,11)]\n",
    "x"
   ]
  },
  {
   "cell_type": "markdown",
   "id": "802e1f94-e5f1-414c-a92c-b306d0fda742",
   "metadata": {},
   "source": [
    "2. Find the length of a list without using the `len()` function."
   ]
  },
  {
   "cell_type": "code",
   "execution_count": 62,
   "id": "8e46daca-00c5-42ad-9d7e-a0abfd86b6f1",
   "metadata": {},
   "outputs": [
    {
     "name": "stdout",
     "output_type": "stream",
     "text": [
      "Length:  10\n"
     ]
    }
   ],
   "source": [
    "l = [1, 2, 3, 4, 5, 6, 7, 8, 9, 10]\n",
    "\n",
    "count = 0\n",
    "for i in l:\n",
    "    count +=1\n",
    "\n",
    "print('Length: ',count)"
   ]
  },
  {
   "cell_type": "markdown",
   "id": "843e2420-a5b7-4c79-bad5-cb6148596e10",
   "metadata": {},
   "source": [
    "3. Append an element to the end of a list."
   ]
  },
  {
   "cell_type": "code",
   "execution_count": 63,
   "id": "2be542c2-f872-4f2f-9c42-3e10b76a4966",
   "metadata": {},
   "outputs": [
    {
     "data": {
      "text/plain": [
       "[1, 2, 3, 4, 5, 6, 7, 8, 9, 10, 11]"
      ]
     },
     "execution_count": 63,
     "metadata": {},
     "output_type": "execute_result"
    }
   ],
   "source": [
    "l = [1, 2, 3, 4, 5, 6, 7, 8, 9, 10]\n",
    "l.append(11)\n",
    "l"
   ]
  },
  {
   "cell_type": "markdown",
   "id": "e0a21f8f-49e7-4a63-a959-909f9097be65",
   "metadata": {},
   "source": [
    "4. Insert an element at a specific index in a list."
   ]
  },
  {
   "cell_type": "code",
   "execution_count": 64,
   "id": "83730cc1-ddc7-40b3-bdc1-713959184d13",
   "metadata": {},
   "outputs": [
    {
     "data": {
      "text/plain": [
       "[1, 2, 3, 4, 4.5, 5, 6, 7, 8, 9, 10]"
      ]
     },
     "execution_count": 64,
     "metadata": {},
     "output_type": "execute_result"
    }
   ],
   "source": [
    "l = [1, 2, 3, 4, 5, 6, 7, 8, 9, 10]\n",
    "\n",
    "num = 4.5\n",
    "index = 4\n",
    "l.insert(index,num)\n",
    "\n",
    "l"
   ]
  },
  {
   "cell_type": "markdown",
   "id": "15d3cc64-4fd5-4bda-81a9-01d10225e016",
   "metadata": {},
   "source": [
    "5. Remove an element from a list by its value."
   ]
  },
  {
   "cell_type": "code",
   "execution_count": 67,
   "id": "23244b72-5ddc-4303-871d-436958a4c265",
   "metadata": {},
   "outputs": [
    {
     "data": {
      "text/plain": [
       "[1, 2, 3, 5, 6, 7, 8, 9, 10]"
      ]
     },
     "execution_count": 67,
     "metadata": {},
     "output_type": "execute_result"
    }
   ],
   "source": [
    "l = [1, 2, 3, 4, 5, 6, 7, 8, 9, 10]\n",
    "\n",
    "l.remove(4)\n",
    "l"
   ]
  },
  {
   "cell_type": "markdown",
   "id": "b0afb25b-f309-4bca-b8c6-ebe2e1e81d63",
   "metadata": {},
   "source": [
    "6. Remove an element from a list by its index."
   ]
  },
  {
   "cell_type": "code",
   "execution_count": 70,
   "id": "3cbbdce3-7449-4c58-9254-7509b2763a96",
   "metadata": {},
   "outputs": [
    {
     "data": {
      "text/plain": [
       "[1, 2, 4, 5, 6, 7, 8, 9, 10]"
      ]
     },
     "execution_count": 70,
     "metadata": {},
     "output_type": "execute_result"
    }
   ],
   "source": [
    "l = [1, 2, 3, 4, 5, 6, 7, 8, 9, 10]\n",
    "index = 2\n",
    "l.pop(index)\n",
    "l"
   ]
  },
  {
   "cell_type": "markdown",
   "id": "b862ce00-ba53-4e45-a690-143087db07a9",
   "metadata": {},
   "source": [
    "7. Check if an element exists in a list."
   ]
  },
  {
   "cell_type": "code",
   "execution_count": 71,
   "id": "031067dd-6388-4257-a8d6-18f2bf7d06a4",
   "metadata": {},
   "outputs": [
    {
     "name": "stdout",
     "output_type": "stream",
     "text": [
      "Exists\n"
     ]
    }
   ],
   "source": [
    "l = [1, 2, 3, 4, 5, 6, 7, 8, 9, 10]\n",
    "\n",
    "element = 6\n",
    "\n",
    "if element in l:\n",
    "    print('Exists')\n",
    "else:\n",
    "    print('Does not exits')"
   ]
  },
  {
   "cell_type": "markdown",
   "id": "27f82e58-44ba-4f19-b31b-249abe69464e",
   "metadata": {},
   "source": [
    "8. Find the index of the first occurrence of an element in a list."
   ]
  },
  {
   "cell_type": "code",
   "execution_count": 73,
   "id": "e6cfa435-1d2a-4f90-8171-1a6e7f598a26",
   "metadata": {},
   "outputs": [
    {
     "name": "stdout",
     "output_type": "stream",
     "text": [
      "First occurence of 1 is at 3 index in the list\n"
     ]
    }
   ],
   "source": [
    "l = [2,3,2,1,5,6,4,6,6,1,1]\n",
    "\n",
    "num = 1\n",
    "for i in range(len(l)):\n",
    "    if l[i]==num:\n",
    "        print(f'First occurence of {num} is at {i} index in the list')\n",
    "        break"
   ]
  },
  {
   "cell_type": "markdown",
   "id": "728535c1-8acc-4d14-87b7-ea33d0056b68",
   "metadata": {},
   "source": [
    "9. Count the occurrences of an element in a list."
   ]
  },
  {
   "cell_type": "code",
   "execution_count": 74,
   "id": "c63c0797-b9f3-4bb7-b9c7-a71e9e39a9c0",
   "metadata": {},
   "outputs": [
    {
     "name": "stdout",
     "output_type": "stream",
     "text": [
      "Number occurence of 1 is 3 in the list\n"
     ]
    }
   ],
   "source": [
    "l = [2,3,2,1,5,6,4,6,6,1,1]\n",
    "\n",
    "num = 1\n",
    "count = 0\n",
    "for i in range(len(l)):\n",
    "    if l[i]==num:\n",
    "        count+=1\n",
    "        \n",
    "print(f'Number occurence of {num} is {count} in the list')       "
   ]
  },
  {
   "cell_type": "markdown",
   "id": "72e28b07-ef68-4193-9c55-1492ddafaaba",
   "metadata": {},
   "source": [
    "10. Reverse the order of elements in a list."
   ]
  },
  {
   "cell_type": "code",
   "execution_count": 82,
   "id": "8645c25a-0692-42c1-9c68-2d6c01e38210",
   "metadata": {},
   "outputs": [
    {
     "name": "stdout",
     "output_type": "stream",
     "text": [
      "[10, 9, 8, 7, 6, 5, 4, 3, 2, 1]\n"
     ]
    }
   ],
   "source": [
    "l = [1, 2, 3, 4, 5, 6, 7, 8, 9, 10]\n",
    "l.reverse()\n",
    "print(l)"
   ]
  },
  {
   "cell_type": "markdown",
   "id": "c8dd57e4-88e0-462d-b6a8-774b0d480d95",
   "metadata": {},
   "source": [
    "11. Sort a list in ascending order."
   ]
  },
  {
   "cell_type": "code",
   "execution_count": 83,
   "id": "7d3d151e-7e6b-4493-9453-38c0c2308a83",
   "metadata": {},
   "outputs": [
    {
     "name": "stdout",
     "output_type": "stream",
     "text": [
      "[1, 1, 1, 2, 2, 3, 4, 5, 6, 6, 6]\n"
     ]
    }
   ],
   "source": [
    "l = [2,3,2,1,5,6,4,6,6,1,1]\n",
    "l.sort()\n",
    "print(l)"
   ]
  },
  {
   "cell_type": "markdown",
   "id": "73985865-fdfc-44fe-85cf-b4349c95b967",
   "metadata": {},
   "source": [
    "12. Sort a list in descending order."
   ]
  },
  {
   "cell_type": "code",
   "execution_count": 85,
   "id": "f8172d29-2f9f-459f-af73-6987e9edd6cd",
   "metadata": {},
   "outputs": [
    {
     "name": "stdout",
     "output_type": "stream",
     "text": [
      "[15, 6, 6, 6, 4, 3, 2, 2, 1, 1]\n"
     ]
    }
   ],
   "source": [
    "l = [2,3,2,15,6,4,6,6,1,1]\n",
    "l.sort(reverse=True)\n",
    "print(l)"
   ]
  },
  {
   "cell_type": "markdown",
   "id": "185aaaec-617c-4522-98b3-5b9ceff904aa",
   "metadata": {},
   "source": [
    "13. Create a list of even numbers from 1 to 20."
   ]
  },
  {
   "cell_type": "code",
   "execution_count": 86,
   "id": "332f308b-bddf-436b-857e-b0081e754d9e",
   "metadata": {},
   "outputs": [
    {
     "data": {
      "text/plain": [
       "[2, 4, 6, 8, 10, 12, 14, 16, 18, 20]"
      ]
     },
     "execution_count": 86,
     "metadata": {},
     "output_type": "execute_result"
    }
   ],
   "source": [
    "l  = [x for x in range(1,21) if x%2==0 ]\n",
    "l"
   ]
  },
  {
   "cell_type": "markdown",
   "id": "9d60b635-a5f8-44e8-af18-aab039c3df25",
   "metadata": {},
   "source": [
    "14. Create a list of odd numbers from 1 to 20."
   ]
  },
  {
   "cell_type": "code",
   "execution_count": 87,
   "id": "a0bf4b3d-7e48-42c6-8733-60432514830e",
   "metadata": {},
   "outputs": [
    {
     "data": {
      "text/plain": [
       "[1, 3, 5, 7, 9, 11, 13, 15, 17, 19]"
      ]
     },
     "execution_count": 87,
     "metadata": {},
     "output_type": "execute_result"
    }
   ],
   "source": [
    "l  = [x for x in range(1,21) if not x%2==0 ]\n",
    "l"
   ]
  },
  {
   "cell_type": "markdown",
   "id": "96a791f4-c973-483c-8f15-8aea7792a134",
   "metadata": {},
   "source": [
    "15. Find the sum of all elements in a list."
   ]
  },
  {
   "cell_type": "code",
   "execution_count": 88,
   "id": "24f4e59a-e2e8-499e-984f-36be28257c7d",
   "metadata": {},
   "outputs": [
    {
     "data": {
      "text/plain": [
       "46"
      ]
     },
     "execution_count": 88,
     "metadata": {},
     "output_type": "execute_result"
    }
   ],
   "source": [
    "l = [2,3,2,15,6,4,6,6,1,1]\n",
    "\n",
    "summ = 0\n",
    "for i in l:\n",
    "    summ +=i\n",
    "\n",
    "summ"
   ]
  },
  {
   "cell_type": "markdown",
   "id": "7a481fe4-1fa7-43e1-9a52-7824b395ddb8",
   "metadata": {},
   "source": [
    "16. Find the maximum value in a list."
   ]
  },
  {
   "cell_type": "code",
   "execution_count": 89,
   "id": "ee7b6ad3-6652-4642-924b-591b3969cf47",
   "metadata": {},
   "outputs": [
    {
     "data": {
      "text/plain": [
       "15"
      ]
     },
     "execution_count": 89,
     "metadata": {},
     "output_type": "execute_result"
    }
   ],
   "source": [
    "l = [2,3,2,15,6,4,6,6,1,1]\n",
    "m = max(l)\n",
    "m"
   ]
  },
  {
   "cell_type": "markdown",
   "id": "24b5e365-916b-4be7-9c0a-83e83632e85f",
   "metadata": {},
   "source": [
    "17. Find the minimum value in a list."
   ]
  },
  {
   "cell_type": "code",
   "execution_count": 90,
   "id": "b60887c0-51fc-4b82-8129-4e8085c45385",
   "metadata": {},
   "outputs": [
    {
     "data": {
      "text/plain": [
       "1"
      ]
     },
     "execution_count": 90,
     "metadata": {},
     "output_type": "execute_result"
    }
   ],
   "source": [
    "l = [2,3,2,15,6,4,6,6,1,1]\n",
    "m = min(l)\n",
    "m"
   ]
  },
  {
   "cell_type": "markdown",
   "id": "dce89108-86f4-4939-b398-c977dbc01e75",
   "metadata": {},
   "source": [
    "18. Create a list of squares of numbers from 1 to 10."
   ]
  },
  {
   "cell_type": "code",
   "execution_count": 92,
   "id": "59565f12-8007-44b1-86fb-89ec2794c711",
   "metadata": {},
   "outputs": [
    {
     "data": {
      "text/plain": [
       "[1, 4, 9, 16, 25, 36, 49, 64, 81, 100]"
      ]
     },
     "execution_count": 92,
     "metadata": {},
     "output_type": "execute_result"
    }
   ],
   "source": [
    "l = [x**2 for x in range(1,11)]\n",
    "l"
   ]
  },
  {
   "cell_type": "markdown",
   "id": "41c225a5-d60a-435b-a822-57ca2ef2c455",
   "metadata": {},
   "source": [
    "19. Create a list of random numbers."
   ]
  },
  {
   "cell_type": "code",
   "execution_count": 93,
   "id": "6ad947b4-4e10-4802-bad0-9989bcb8a54a",
   "metadata": {},
   "outputs": [
    {
     "data": {
      "text/plain": [
       "[49, 35, 7, 38, 7, 44, 12]"
      ]
     },
     "execution_count": 93,
     "metadata": {},
     "output_type": "execute_result"
    }
   ],
   "source": [
    "import random\n",
    "\n",
    "l = [random.randrange(1, 50, 1) for i in range(7) ]\n",
    "\n",
    "l"
   ]
  },
  {
   "cell_type": "markdown",
   "id": "7fa3a01c-3d44-4d51-abf4-a6f3aba2b184",
   "metadata": {},
   "source": [
    "20. Remove duplicates from a list."
   ]
  },
  {
   "cell_type": "code",
   "execution_count": 94,
   "id": "82db654c-f179-484a-8904-71349d7f9a77",
   "metadata": {},
   "outputs": [
    {
     "data": {
      "text/plain": [
       "[1, 2, 3, 4, 6, 15]"
      ]
     },
     "execution_count": 94,
     "metadata": {},
     "output_type": "execute_result"
    }
   ],
   "source": [
    "l = [2,3,2,15,6,4,6,6,1,1]\n",
    "\n",
    "l = list(set(l))\n",
    "\n",
    "l"
   ]
  },
  {
   "cell_type": "markdown",
   "id": "2e909b58-97de-4547-a5ab-e2d477730ec1",
   "metadata": {},
   "source": [
    "21. Find the common elements between two lists."
   ]
  },
  {
   "cell_type": "code",
   "execution_count": 4,
   "id": "615c9e89-1f49-4fd9-9ef2-b3284adce472",
   "metadata": {
    "tags": []
   },
   "outputs": [
    {
     "name": "stdout",
     "output_type": "stream",
     "text": [
      "List 1:  [29, 24, 23, 15, 13, 9, 17, 13, 6, 27] \n",
      "List 2:  [8, 27, 24, 12, 19, 10, 1, 25, 15, 23] \n",
      "Commom elm:  [24, 23, 15, 27]\n"
     ]
    }
   ],
   "source": [
    "import random\n",
    "\n",
    "l1 = [random.randrange(1, 30) for i in range(10) ]\n",
    "\n",
    "l2 = [random.randrange(1, 30) for i in range(10) ]\n",
    "\n",
    "comm = []\n",
    "\n",
    "for i in l1:\n",
    "    if i in l2:\n",
    "        comm.append(i)\n",
    "        \n",
    "print('List 1: ',l1, '\\nList 2: ',l2, '\\nCommom elm: ', comm)\n"
   ]
  },
  {
   "cell_type": "markdown",
   "id": "d799f8f0-ad39-4e94-9a5e-66140dd52b21",
   "metadata": {},
   "source": [
    "22. Find the difference between two lists."
   ]
  },
  {
   "cell_type": "code",
   "execution_count": 2,
   "id": "94462e3a-af97-4c8e-9851-a4261e257850",
   "metadata": {},
   "outputs": [
    {
     "name": "stdout",
     "output_type": "stream",
     "text": [
      "List 1:  [25, 13, 28, 20, 13, 10, 14, 27, 10, 3] \n",
      "List 2:  [3, 22, 4, 3, 16, 14, 22, 3, 29, 27] \n",
      "Un Commom elm:  [25, 13, 28, 20, 13, 10, 10, 22, 4, 16, 22, 29]\n"
     ]
    }
   ],
   "source": [
    "import random\n",
    "\n",
    "l1 = [random.randrange(1, 30) for i in range(10) ]\n",
    "\n",
    "l2 = [random.randrange(1, 30) for i in range(10) ]\n",
    "\n",
    "uncm = []\n",
    "\n",
    "for i in l1:\n",
    "    if i not in l2:\n",
    "        uncm.append(i)\n",
    "\n",
    "for i in l2:\n",
    "    if i not in l1:\n",
    "        uncm.append(i)\n",
    "        \n",
    "print('List 1: ',l1, '\\nList 2: ',l2, '\\nUn Commom elm: ', uncm)\n"
   ]
  },
  {
   "cell_type": "markdown",
   "id": "91674fe7-01ad-4b07-bf2e-a55a2e1a067e",
   "metadata": {},
   "source": [
    "23. Merge two lists."
   ]
  },
  {
   "cell_type": "code",
   "execution_count": 9,
   "id": "c860cd3d-5ed3-44bb-91fb-0361813f25d5",
   "metadata": {},
   "outputs": [
    {
     "name": "stdout",
     "output_type": "stream",
     "text": [
      "List 1:  [23, 25, 13, 29, 13, 24, 28, 15, 19, 10] \n",
      "List 2:  [8, 7, 12, 12, 26, 22, 27, 12, 1, 10]\n",
      "Merged list:  [23, 25, 13, 29, 13, 24, 28, 15, 19, 10, 8, 7, 12, 12, 26, 22, 27, 12, 1, 10]\n"
     ]
    }
   ],
   "source": [
    "import random\n",
    "\n",
    "l1 = [random.randrange(1, 30) for i in range(10) ]\n",
    "\n",
    "l2 = [random.randrange(1, 30) for i in range(10) ]\n",
    "\n",
    "print('List 1: ',l1, '\\nList 2: ',l2)\n",
    "\n",
    "l1.extend(l2)\n",
    "print('Merged list: ', l1)"
   ]
  },
  {
   "cell_type": "markdown",
   "id": "f66ba60d-0f1d-43c0-8f29-2233e6146704",
   "metadata": {},
   "source": [
    "24. Multiply all elements in a list by 2."
   ]
  },
  {
   "cell_type": "code",
   "execution_count": 12,
   "id": "fcc016fc-6062-47aa-8ff0-f960f73e13ab",
   "metadata": {},
   "outputs": [
    {
     "data": {
      "text/plain": [
       "[2, 4, 6, 8, 10, 12, 14, 16, 18, 20]"
      ]
     },
     "execution_count": 12,
     "metadata": {},
     "output_type": "execute_result"
    }
   ],
   "source": [
    "l = [1, 2, 3, 4, 5, 6, 7, 8, 9, 10]\n",
    "\n",
    "l2 = [ x*2 for x in l]\n",
    "\n",
    "l2"
   ]
  },
  {
   "cell_type": "markdown",
   "id": "2af0f44c-0638-4c85-a153-1c8f6d2a17ad",
   "metadata": {},
   "source": [
    "25. Filter out all even numbers from a list."
   ]
  },
  {
   "cell_type": "code",
   "execution_count": 13,
   "id": "303c9430-5564-4288-8236-845fb2ba5a5b",
   "metadata": {},
   "outputs": [
    {
     "data": {
      "text/plain": [
       "[2, 4, 6, 8, 10]"
      ]
     },
     "execution_count": 13,
     "metadata": {},
     "output_type": "execute_result"
    }
   ],
   "source": [
    "l = [1, 2, 3, 4, 5, 6, 7, 8, 9, 10]\n",
    "\n",
    "l2 = [x for x in l if x%2==0]\n",
    "\n",
    "l2"
   ]
  },
  {
   "cell_type": "markdown",
   "id": "081f5d92-9a8d-4ea3-acc1-9bccf8e5f498",
   "metadata": {},
   "source": [
    "26. Convert a list of strings to a list of integers."
   ]
  },
  {
   "cell_type": "code",
   "execution_count": 15,
   "id": "90bf3d03-fc5c-4ca8-9cf5-3540bce15a0d",
   "metadata": {},
   "outputs": [
    {
     "data": {
      "text/plain": [
       "[1, 2, 3, 4, 5, 6, 7, 8, 9, 10]"
      ]
     },
     "execution_count": 15,
     "metadata": {},
     "output_type": "execute_result"
    }
   ],
   "source": [
    "l = ['1', '2', '3', '4', '5', '6', '7', '8', '9', '10']\n",
    "\n",
    "l2 = [int(i) for i in l]\n",
    "\n",
    "l2"
   ]
  },
  {
   "cell_type": "markdown",
   "id": "613c502c-2884-48ee-a5f3-84addd9e8b9a",
   "metadata": {},
   "source": [
    "27. Convert a list of integers to a list of strings."
   ]
  },
  {
   "cell_type": "code",
   "execution_count": 16,
   "id": "3514d49e-e6d4-4cfb-bb33-ebf307c370da",
   "metadata": {},
   "outputs": [
    {
     "data": {
      "text/plain": [
       "['1', '2', '3', '4', '5', '6', '7', '8', '9', '10']"
      ]
     },
     "execution_count": 16,
     "metadata": {},
     "output_type": "execute_result"
    }
   ],
   "source": [
    "l = [1, 2, 3, 4, 5, 6, 7, 8, 9, 10]\n",
    "\n",
    "l2 = [str(x) for x in l]\n",
    "\n",
    "l2"
   ]
  },
  {
   "cell_type": "markdown",
   "id": "03d1136e-a859-45d4-b03f-9c846a36e618",
   "metadata": {},
   "source": [
    "28. Flatten a nested list."
   ]
  },
  {
   "cell_type": "code",
   "execution_count": 21,
   "id": "df5ba6f7-c52b-499d-a93f-2a88c86ecf0b",
   "metadata": {},
   "outputs": [
    {
     "name": "stdout",
     "output_type": "stream",
     "text": [
      "Flat list:  [1, 2, 3, 4, 5, 6, 7, 8, 9, 10]\n"
     ]
    }
   ],
   "source": [
    "l = [1, 2, [3, 4, [5, 6] ], 7, 8, [9, [10] ] ]\n",
    "flat_list = []\n",
    "def get_flat_list(l):\n",
    "    for i in l:\n",
    "        if type(i) ==list:\n",
    "            get_flat_list(i)\n",
    "        else:\n",
    "            flat_list.append(i)\n",
    "    return flat_list \n",
    "    \n",
    "\n",
    "print('Flat list: ', get_flat_list(l))"
   ]
  },
  {
   "cell_type": "markdown",
   "id": "db72dcdb-1f6f-43a1-885f-bfb70b86ca22",
   "metadata": {},
   "source": [
    "29. Create a list of the first 10 Fibonacci numbers."
   ]
  },
  {
   "cell_type": "code",
   "execution_count": 27,
   "id": "ea9bd628-f389-4882-bc76-8b87a0a2903b",
   "metadata": {},
   "outputs": [
    {
     "data": {
      "text/plain": [
       "[0, 1, 1, 2, 3, 5, 8, 13, 21, 34]"
      ]
     },
     "execution_count": 27,
     "metadata": {},
     "output_type": "execute_result"
    }
   ],
   "source": [
    "l = []\n",
    "\n",
    "for i in range(0, 10):\n",
    "    if len(l)<2:\n",
    "        l.append(i)\n",
    "    else:\n",
    "        l.append(l[i-2] + l[i-1])\n",
    "    \n",
    "l"
   ]
  },
  {
   "cell_type": "markdown",
   "id": "00a30913-b852-4ed8-8ee9-eb56bc87746d",
   "metadata": {},
   "source": [
    "30. Check if a list is sorted."
   ]
  },
  {
   "cell_type": "code",
   "execution_count": 30,
   "id": "0a581ebc-4edc-4496-bf1d-320c65b033b2",
   "metadata": {},
   "outputs": [
    {
     "name": "stdout",
     "output_type": "stream",
     "text": [
      "[27, 11, 8, 22, 12, 2, 28, 18, 19, 24]\n",
      "Not Sorted\n"
     ]
    }
   ],
   "source": [
    "import random\n",
    "\n",
    "l = [random.randrange(1, 30) for i in range(10)]\n",
    "print(l)\n",
    "flag = True\n",
    "for i in range(len(l)-1):\n",
    "    if (l[i]>l[i+1]):\n",
    "        flag = False\n",
    "        \n",
    "if flag:\n",
    "    print('Sorted')\n",
    "else:\n",
    "    print('Not Sorted')"
   ]
  },
  {
   "cell_type": "markdown",
   "id": "d36b1d02-3474-4c5e-a980-7fe7898f997e",
   "metadata": {},
   "source": [
    "31. Rotate a list to the left by `n` positions."
   ]
  },
  {
   "cell_type": "code",
   "execution_count": 63,
   "id": "521e55c8-0135-4b1d-8a2f-dede3ec53ddc",
   "metadata": {},
   "outputs": [
    {
     "name": "stdout",
     "output_type": "stream",
     "text": [
      "Rotaing list to left nth position,\n",
      "Here n value is 3\n",
      "Result:  [7, 2, 1, 4, 6]\n"
     ]
    }
   ],
   "source": [
    "l = [1, 4, 6, 7, 2]\n",
    "n = 3\n",
    "l2 = l[n:] +l[:n] \n",
    "print(f\"Rotaing list to left nth position,\\nHere n value is {n}\\nResult: \", l2)"
   ]
  },
  {
   "cell_type": "markdown",
   "id": "aa2f154c-77d6-4247-987e-17ff0bb6f875",
   "metadata": {},
   "source": [
    "32. Rotate a list to the right by `n` positions."
   ]
  },
  {
   "cell_type": "code",
   "execution_count": 65,
   "id": "dc3ac93b-d53c-4210-a608-60fd8e32d2f9",
   "metadata": {},
   "outputs": [
    {
     "name": "stdout",
     "output_type": "stream",
     "text": [
      "Rotaing list to right nth position,\n",
      "Here n value is 3\n",
      "Result:  [6, 7, 2, 1, 4]\n"
     ]
    }
   ],
   "source": [
    "l = [1, 4, 6, 7, 2]\n",
    "n = 3\n",
    "l2 = l[-n:] +l[:-n] \n",
    "print(f\"Rotaing list to right nth position,\\nHere n value is {n}\\nResult: \", l2)"
   ]
  },
  {
   "cell_type": "markdown",
   "id": "6e0b3301-36ab-43ca-a1e0-750bb43e2c95",
   "metadata": {},
   "source": [
    "33. Create a list of prime numbers up to 50."
   ]
  },
  {
   "cell_type": "code",
   "execution_count": 18,
   "id": "409a21a3-185c-48cb-811b-c9bb4f7f5a46",
   "metadata": {},
   "outputs": [
    {
     "name": "stdout",
     "output_type": "stream",
     "text": [
      "[1, 2, 3, 5, 7, 11, 13, 17, 19, 23, 29, 31, 37, 41, 43, 47]\n"
     ]
    }
   ],
   "source": [
    "l=[]\n",
    "\n",
    "for i in range(1, 51):\n",
    "    flag=True\n",
    "    if i==1:\n",
    "        l.append(i)\n",
    "        flag=False\n",
    "    \n",
    "    else:\n",
    "        for x in range(2, i//2+1):\n",
    "            if i%x == 0:\n",
    "                flag=False\n",
    "                break\n",
    "    \n",
    "    if flag:\n",
    "        l.append(i)\n",
    "\n",
    "        \n",
    "print(l)"
   ]
  },
  {
   "cell_type": "markdown",
   "id": "3f98c134-2f80-4535-9c29-0d897a0cf796",
   "metadata": {},
   "source": [
    "34. Split a list into chunks of size `n`."
   ]
  },
  {
   "cell_type": "code",
   "execution_count": 35,
   "id": "d7312a09-a811-42dd-812d-8ef0d525c6ec",
   "metadata": {},
   "outputs": [
    {
     "name": "stdout",
     "output_type": "stream",
     "text": [
      "[[1, 2, 3], [4, 5, 6], [7, 8, 9]]\n"
     ]
    }
   ],
   "source": [
    "# l = [x for x in range(20)]\n",
    "# print(l)\n",
    "\n",
    "# while len(l)>3:\n",
    "\n",
    "l = [1, 2, 3, 4, 5, 6, 7, 8,9]\n",
    "n=3\n",
    "x=[]\n",
    "start=0\n",
    "for i in range(1,n+1):\n",
    "    x.append(l[start:(n*i)])\n",
    "    start=start+n\n",
    "print(x)"
   ]
  },
  {
   "cell_type": "markdown",
   "id": "0a35e508-4ff4-4f3f-8f40-abfff4b20f29",
   "metadata": {},
   "source": [
    "35. Find the second largest number in a list."
   ]
  },
  {
   "cell_type": "code",
   "execution_count": 23,
   "id": "381ac406-7a53-47c0-ae00-d6c5fdfb75a7",
   "metadata": {},
   "outputs": [
    {
     "name": "stdout",
     "output_type": "stream",
     "text": [
      "[2, 3, 4, 4, 5, 6, 7, 8, 9, 12, 21, 23, 43, 43, 45, 67, 89]\n",
      "Second last number from the list:  67\n"
     ]
    }
   ],
   "source": [
    "l = [6,5,4,7,9,4,3,8,2,23,43,21,12,67,89,43,45]\n",
    "\n",
    "l.sort()\n",
    "print(l)\n",
    "print('Second last number from the list: ',l[-2])"
   ]
  },
  {
   "cell_type": "markdown",
   "id": "3f6cca24-0bcd-4250-8ac8-60f540a5e007",
   "metadata": {},
   "source": [
    "36. Replace every element in a list with its square."
   ]
  },
  {
   "cell_type": "code",
   "execution_count": 25,
   "id": "b3a8c8f2-49c4-4c66-a7fe-f214d59a81c7",
   "metadata": {},
   "outputs": [
    {
     "name": "stdout",
     "output_type": "stream",
     "text": [
      "[2, 3, 4, 5, 6, 7, 8, 9, 10, 11]\n",
      "[4, 9, 16, 25, 36, 49, 64, 81, 100, 121]\n"
     ]
    }
   ],
   "source": [
    "l = [i for i in range(2,12)]\n",
    "print(l)\n",
    "\n",
    "l = [x**2 for x in l]\n",
    "\n",
    "print(l)"
   ]
  },
  {
   "cell_type": "markdown",
   "id": "03b06e6d-a718-45aa-8420-bcbba766500e",
   "metadata": {},
   "source": [
    "37. Convert a list to a dictionary where list elements become keys and their\n",
    "indices become values."
   ]
  },
  {
   "cell_type": "code",
   "execution_count": 29,
   "id": "e5b282e1-c176-4d33-9de5-53ff2e939df2",
   "metadata": {},
   "outputs": [
    {
     "name": "stdout",
     "output_type": "stream",
     "text": [
      "[11, 12, 13, 14, 15, 16, 17, 18, 19, 20]\n",
      "{11: 0, 12: 1, 13: 2, 14: 3, 15: 4, 16: 5, 17: 6, 18: 7, 19: 8, 20: 9}\n"
     ]
    }
   ],
   "source": [
    "l = [x for x in range(11,21)]\n",
    "print(l)\n",
    "\n",
    "dic = {}\n",
    "\n",
    "for i in range(len(l)):\n",
    "    dic[l[i]] = i\n",
    "    \n",
    "print(dic)"
   ]
  },
  {
   "cell_type": "markdown",
   "id": "3bb9a80a-2bb9-4c1b-9d55-2d53524e57e7",
   "metadata": {},
   "source": [
    "38. Shuffle the elements of a list randomly."
   ]
  },
  {
   "cell_type": "code",
   "execution_count": 31,
   "id": "bdf28d16-1838-44e7-ac6e-1f681f650831",
   "metadata": {},
   "outputs": [
    {
     "name": "stdout",
     "output_type": "stream",
     "text": [
      "[11, 12, 13, 14, 15, 16, 17, 18, 19, 20]\n",
      "shufled:  [20, 19, 13, 17, 14, 18, 16, 11, 15, 12]\n"
     ]
    }
   ],
   "source": [
    "import random\n",
    "\n",
    "l = [x for x in range(11,21)]\n",
    "print(l)\n",
    "\n",
    "random.shuffle(l)\n",
    "\n",
    "print('shufled: ',l)"
   ]
  },
  {
   "cell_type": "markdown",
   "id": "eb538b0d-30ce-4f83-b455-c39ace464c5e",
   "metadata": {},
   "source": [
    "39. Create a list of the first 10 factorial numbers."
   ]
  },
  {
   "cell_type": "code",
   "execution_count": 37,
   "id": "9dd0f7ed-8f42-4588-b0e6-998a6578c106",
   "metadata": {},
   "outputs": [
    {
     "name": "stdout",
     "output_type": "stream",
     "text": [
      "[0, 1, 2, 3, 4, 5, 6, 7, 8, 9]\n",
      "[1, 1, 2, 6, 24, 120, 720, 5040, 40320, 362880]\n"
     ]
    }
   ],
   "source": [
    "l=[x for x in range(10)]\n",
    "print(l)\n",
    "\n",
    "l2 =[]\n",
    "\n",
    "for n in l:\n",
    "    if n ==0 or n==1:\n",
    "        l2.append(1)\n",
    "    else:\n",
    "        i = 1\n",
    "        f = 1\n",
    "        while i<=n:\n",
    "            f *=i\n",
    "            i +=1\n",
    "            \n",
    "        l2.append(f)\n",
    "        \n",
    "print(l2)"
   ]
  },
  {
   "cell_type": "markdown",
   "id": "cc033faf-7b04-4c6f-9254-bda0734d6ded",
   "metadata": {},
   "source": [
    "40. Check if two lists have at least one element in common."
   ]
  },
  {
   "cell_type": "code",
   "execution_count": 53,
   "id": "841f528d-4312-4201-8642-73dde5d0b333",
   "metadata": {},
   "outputs": [
    {
     "name": "stdout",
     "output_type": "stream",
     "text": [
      "[5, 25, 5, 20, 14, 15, 11, 23, 7, 27] [18, 10, 7, 14, 8, 25, 19, 26, 3, 24]\n",
      "Yes, they have common atleast one elemet  25\n"
     ]
    }
   ],
   "source": [
    "import random\n",
    "\n",
    "x=[random.randint(1,30) for x in range(10)]\n",
    "y=[random.randint(1,30) for x in range(10)]\n",
    "\n",
    "\n",
    "print(x,y)\n",
    "for i in x:\n",
    "    if i in y:\n",
    "        print('Yes, they have common atleast one elemet ', i)\n",
    "        break\n",
    "else:\n",
    "    print('Nothing common')"
   ]
  },
  {
   "cell_type": "markdown",
   "id": "f37e0e06-8f77-462b-91e7-1228598dd2e9",
   "metadata": {},
   "source": [
    "41. Remove all elements from a list."
   ]
  },
  {
   "cell_type": "code",
   "execution_count": 55,
   "id": "66b1f4ac-bb29-4a4f-886c-f9d18b1df652",
   "metadata": {},
   "outputs": [
    {
     "name": "stdout",
     "output_type": "stream",
     "text": [
      "[12, 13, 10, 26, 15, 30, 16, 13, 2, 24]\n",
      "[]\n"
     ]
    }
   ],
   "source": [
    "x = [random.randint(1,30) for x in range(10)]\n",
    "print(x)\n",
    "x.clear()\n",
    "print(x)"
   ]
  },
  {
   "cell_type": "markdown",
   "id": "59b652d0-9f37-4633-8983-46ce3245d476",
   "metadata": {},
   "source": [
    "42. Replace negative numbers in a list with 0."
   ]
  },
  {
   "cell_type": "code",
   "execution_count": 58,
   "id": "f51f09ca-8b88-4973-a1b5-b1005a17ff36",
   "metadata": {},
   "outputs": [
    {
     "name": "stdout",
     "output_type": "stream",
     "text": [
      "[1, 7, -6, 9, 6, 9, 7, -1, 7, -5]\n"
     ]
    },
    {
     "data": {
      "text/plain": [
       "[1, 7, 0, 9, 6, 9, 7, 0, 7, 0]"
      ]
     },
     "execution_count": 58,
     "metadata": {},
     "output_type": "execute_result"
    }
   ],
   "source": [
    "l = [random.randint(-10,10) for x in range(10)]\n",
    "\n",
    "print(l)\n",
    "for i in range(len(l)):\n",
    "    if l[i]<0:\n",
    "        l[i] = 0\n",
    "l"
   ]
  },
  {
   "cell_type": "markdown",
   "id": "287bce3d-61fc-4d4e-a5b6-f0ea05e2bb47",
   "metadata": {},
   "source": [
    "43. Convert a string into a list of words."
   ]
  },
  {
   "cell_type": "code",
   "execution_count": 59,
   "id": "3b6a1d74-6394-4205-9f20-cbb6d7acfaa0",
   "metadata": {},
   "outputs": [
    {
     "data": {
      "text/plain": [
       "['Hello', 'World', 'how', 'are', 'you']"
      ]
     },
     "execution_count": 59,
     "metadata": {},
     "output_type": "execute_result"
    }
   ],
   "source": [
    "s = 'Hello World how are you'\n",
    "\n",
    "l= s.split()\n",
    "\n",
    "l"
   ]
  },
  {
   "cell_type": "markdown",
   "id": "b8bbd89d-9321-482d-9656-2e4bbcc511e2",
   "metadata": {},
   "source": [
    "44. Convert a list of words into a string."
   ]
  },
  {
   "cell_type": "code",
   "execution_count": 60,
   "id": "09ed802a-33a3-4bba-87b5-ea080e26392a",
   "metadata": {},
   "outputs": [
    {
     "data": {
      "text/plain": [
       "'Hello World how are you'"
      ]
     },
     "execution_count": 60,
     "metadata": {},
     "output_type": "execute_result"
    }
   ],
   "source": [
    "l = ['Hello', 'World', 'how', 'are', 'you']\n",
    "\n",
    "s = ' '.join(l)\n",
    "\n",
    "s"
   ]
  },
  {
   "cell_type": "markdown",
   "id": "ec5cbcfe-bcfd-4a0e-ab7b-c233d5479f02",
   "metadata": {},
   "source": [
    "45. Create a list of the first `n` powers of 2."
   ]
  },
  {
   "cell_type": "code",
   "execution_count": 64,
   "id": "f56832df-80ac-4f9e-978d-163dce08c2da",
   "metadata": {},
   "outputs": [
    {
     "data": {
      "text/plain": [
       "[1, 2, 4, 8, 16, 32, 64, 128, 256, 512]"
      ]
     },
     "execution_count": 64,
     "metadata": {},
     "output_type": "execute_result"
    }
   ],
   "source": [
    "n = 10\n",
    "\n",
    "l = list()\n",
    "for i in range(n):\n",
    "    l.append(2**i)\n",
    "    \n",
    "l"
   ]
  },
  {
   "cell_type": "markdown",
   "id": "fb13b271-a266-490e-81d8-bad6e73c7d1d",
   "metadata": {},
   "source": [
    "46. Find the longest string in a list of strings."
   ]
  },
  {
   "cell_type": "code",
   "execution_count": 72,
   "id": "6ea5d719-7636-4bbd-9c85-d10e70a7915b",
   "metadata": {},
   "outputs": [
    {
     "name": "stdout",
     "output_type": "stream",
     "text": [
      "watermelon\n",
      "watermelon\n"
     ]
    }
   ],
   "source": [
    "l = ['apple', 'banana', 'watermelon', 'orange']\n",
    "\n",
    "l.sort(key=len)\n",
    "\n",
    "print(l[-1])\n",
    "\n",
    "####################\n",
    "\n",
    "print(max(l,key=len))"
   ]
  },
  {
   "cell_type": "markdown",
   "id": "5bab91eb-5272-4351-bf4c-d09c63e71785",
   "metadata": {},
   "source": [
    "47. Find the shortest string in a list of strings."
   ]
  },
  {
   "cell_type": "code",
   "execution_count": 73,
   "id": "3479ff85-bdb4-4d7e-9a90-4bc7fce9446b",
   "metadata": {},
   "outputs": [
    {
     "name": "stdout",
     "output_type": "stream",
     "text": [
      "apple\n",
      "apple\n"
     ]
    }
   ],
   "source": [
    "l = ['apple', 'banana', 'watermelon', 'orange']\n",
    "\n",
    "l.sort(key=len)\n",
    "\n",
    "print(l[0])\n",
    "\n",
    "####################\n",
    "\n",
    "print(min(l,key=len))"
   ]
  },
  {
   "cell_type": "markdown",
   "id": "e6166f9f-0b31-4212-8c41-d9c877254aed",
   "metadata": {},
   "source": [
    "48. Create a list of the first `n` triangular numbers."
   ]
  },
  {
   "cell_type": "code",
   "execution_count": 74,
   "id": "46c50e1c-8cf2-4ea7-b804-d10e2c1ceb99",
   "metadata": {},
   "outputs": [
    {
     "data": {
      "text/plain": [
       "[1, 3, 6, 10, 15]"
      ]
     },
     "execution_count": 74,
     "metadata": {},
     "output_type": "execute_result"
    }
   ],
   "source": [
    "n =5\n",
    "l =[]\n",
    "for i in range(1, n + 1):\n",
    "    l.append( i*(i+1)//2)\n",
    "    \n",
    "l"
   ]
  },
  {
   "cell_type": "markdown",
   "id": "12af6d1e-f1b6-4d79-b60d-06261fbe3ef4",
   "metadata": {},
   "source": [
    "49. Check if a list contains another list as a subsequence."
   ]
  },
  {
   "cell_type": "code",
   "execution_count": 76,
   "id": "4cf1c687-9f85-42d1-adbe-46af90a1397f",
   "metadata": {},
   "outputs": [
    {
     "name": "stdout",
     "output_type": "stream",
     "text": [
      "Yes list contains another list as a subsequence\n"
     ]
    }
   ],
   "source": [
    "test_list = [9, 4, 5, 8, 10]\n",
    "sub_list = [10, 5, 4]\n",
    "flag=0\n",
    "if all(x in test_list for x in sub_list):\n",
    "    flag=1\n",
    "if flag:\n",
    "    print(\"Yes list contains another list as a subsequence\")\n",
    "else:\n",
    "    print(\"No list does not contain another list as a subsequence\")"
   ]
  },
  {
   "cell_type": "markdown",
   "id": "2c9c14ae-2afa-4527-aa04-490075359898",
   "metadata": {},
   "source": [
    "50. Swap two elements in a list by their indices."
   ]
  },
  {
   "cell_type": "code",
   "execution_count": 78,
   "id": "0c3290a3-50ad-4d20-8a4e-0bcbaa3ebeaf",
   "metadata": {},
   "outputs": [
    {
     "name": "stdout",
     "output_type": "stream",
     "text": [
      "[1, 2]\n",
      "[2, 1]\n",
      "[9, 4, 5, 8, 10]\n"
     ]
    },
    {
     "data": {
      "text/plain": [
       "[9, 10, 5, 8, 4]"
      ]
     },
     "execution_count": 78,
     "metadata": {},
     "output_type": "execute_result"
    }
   ],
   "source": [
    "l = [1,2]\n",
    "print(l)\n",
    "\n",
    "l[1],l[0] = l[0], l[1]\n",
    "\n",
    "print(l)\n",
    "\n",
    "##################\n",
    "test_list = [9, 4, 5, 8, 10]\n",
    "print(test_list)\n",
    "indice1=1\n",
    "indice2=4\n",
    "temp1=test_list[indice1]\n",
    "temp2=test_list[indice2]\n",
    "test_list[indice1]=temp2\n",
    "test_list[indice2]=temp1\n",
    "test_list"
   ]
  },
  {
   "cell_type": "markdown",
   "id": "5d05315f-8118-4181-845b-69993682b490",
   "metadata": {},
   "source": [
    "## Tuple Based Practice Problem :"
   ]
  },
  {
   "cell_type": "code",
   "execution_count": 80,
   "id": "c10689ac-40da-468f-b8c5-6589555f7504",
   "metadata": {},
   "outputs": [
    {
     "data": {
      "text/plain": [
       "(1, 2, 3, 4, 5)"
      ]
     },
     "execution_count": 80,
     "metadata": {},
     "output_type": "execute_result"
    }
   ],
   "source": [
    "t = tuple(x for x in range(1,6))\n",
    "t"
   ]
  },
  {
   "cell_type": "markdown",
   "id": "63916239-473b-4f9b-9632-efed1eefc30d",
   "metadata": {},
   "source": [
    "2. Access the third element of a tuple."
   ]
  },
  {
   "cell_type": "code",
   "execution_count": 81,
   "id": "915c0635-598b-4123-a08f-2c1760da4bdd",
   "metadata": {},
   "outputs": [
    {
     "data": {
      "text/plain": [
       "3"
      ]
     },
     "execution_count": 81,
     "metadata": {},
     "output_type": "execute_result"
    }
   ],
   "source": [
    "t = (1, 2, 3, 4, 5)\n",
    "t[2]"
   ]
  },
  {
   "cell_type": "markdown",
   "id": "4b428791-1e84-4927-9173-f1e95dd0169c",
   "metadata": {},
   "source": [
    "3. Find the length of a tuple without using the `len()` function."
   ]
  },
  {
   "cell_type": "code",
   "execution_count": 82,
   "id": "b110083d-5d8b-4d0d-b8f4-cdedfd067d31",
   "metadata": {},
   "outputs": [
    {
     "data": {
      "text/plain": [
       "5"
      ]
     },
     "execution_count": 82,
     "metadata": {},
     "output_type": "execute_result"
    }
   ],
   "source": [
    "t = (1, 2, 3, 4, 5)\n",
    "lenn= 0\n",
    "for i in t:\n",
    "    lenn+=1\n",
    "    \n",
    "c"
   ]
  },
  {
   "cell_type": "markdown",
   "id": "0ba5fe99-d5ad-492f-a976-5e7063b1eab1",
   "metadata": {},
   "source": [
    "4. Count the occurrences of an element in a tuple."
   ]
  },
  {
   "cell_type": "code",
   "execution_count": 83,
   "id": "714fa0ed-f4dd-4663-b7b1-8d88af625151",
   "metadata": {},
   "outputs": [
    {
     "data": {
      "text/plain": [
       "2"
      ]
     },
     "execution_count": 83,
     "metadata": {},
     "output_type": "execute_result"
    }
   ],
   "source": [
    "t = (1, 2, 3, 4, 5, 3, 4, 7)\n",
    "c = 0 \n",
    "ele = 3\n",
    "for i in t:\n",
    "    if i==ele:\n",
    "        c+=1\n",
    "        \n",
    "c"
   ]
  },
  {
   "cell_type": "markdown",
   "id": "f07c3619-b247-480d-81d4-8fd3d0de6524",
   "metadata": {},
   "source": [
    "5. Find the index of the first occurrence of an element in a tuple."
   ]
  },
  {
   "cell_type": "code",
   "execution_count": 84,
   "id": "7d83bc9e-f5b3-425a-b645-d61d60d25f80",
   "metadata": {},
   "outputs": [
    {
     "name": "stdout",
     "output_type": "stream",
     "text": [
      "2\n"
     ]
    }
   ],
   "source": [
    "t = (1, 2, 3, 4, 5, 3, 4, 7)\n",
    "\n",
    "ele = 3\n",
    "for i in range(len(t)):\n",
    "    if t[i]==ele:\n",
    "        print(i)\n",
    "        break"
   ]
  },
  {
   "cell_type": "markdown",
   "id": "02c8fefd-3066-4331-b7bb-72a18723e42b",
   "metadata": {},
   "source": [
    "6. Check if an element exists in a tuple."
   ]
  },
  {
   "cell_type": "code",
   "execution_count": 89,
   "id": "c41d723c-7e78-490b-9d27-acf294f224c4",
   "metadata": {},
   "outputs": [
    {
     "name": "stdout",
     "output_type": "stream",
     "text": [
      "yes\n"
     ]
    }
   ],
   "source": [
    "t = (1, 2, 3, 4, 5, 3, 4, 7)\n",
    "\n",
    "elem = 7\n",
    "\n",
    "if elem in t:\n",
    "    print('yes')\n",
    "else:\n",
    "    print('no')"
   ]
  },
  {
   "cell_type": "markdown",
   "id": "fffa67ea-7277-4438-88c2-ccd13d02c97a",
   "metadata": {},
   "source": [
    "7. Convert a tuple to a list."
   ]
  },
  {
   "cell_type": "code",
   "execution_count": 90,
   "id": "6e20754a-83e3-4b3f-8e14-4e3b2a72b76f",
   "metadata": {},
   "outputs": [
    {
     "name": "stdout",
     "output_type": "stream",
     "text": [
      "<class 'tuple'> (1, 2, 3, 4, 5, 3, 4, 7)\n",
      "<class 'list'> [1, 2, 3, 4, 5, 3, 4, 7]\n"
     ]
    }
   ],
   "source": [
    "t = (1, 2, 3, 4, 5, 3, 4, 7)\n",
    "l = list(t)\n",
    "print(type(t), t)\n",
    "print(type(l), l)"
   ]
  },
  {
   "cell_type": "markdown",
   "id": "7bfdfe9f-de13-4d3a-ae93-161657706600",
   "metadata": {},
   "source": [
    "8. Convert a list to a tuple."
   ]
  },
  {
   "cell_type": "code",
   "execution_count": 91,
   "id": "9f748b60-fec1-4fb2-884d-9efbd3884855",
   "metadata": {},
   "outputs": [
    {
     "name": "stdout",
     "output_type": "stream",
     "text": [
      "<class 'tuple'> (1, 2, 3, 4, 5, 3, 4, 7)\n",
      "<class 'list'> [1, 2, 3, 4, 5, 3, 4, 7]\n"
     ]
    }
   ],
   "source": [
    "l = [1, 2, 3, 4, 5, 3, 4, 7]\n",
    "t = tuple(t)\n",
    "print(type(t), t)\n",
    "print(type(l), l)"
   ]
  },
  {
   "cell_type": "markdown",
   "id": "4647fd97-a939-44b5-bc81-468927fd5e2a",
   "metadata": {},
   "source": [
    "9. Unpack the elements of a tuple into variables."
   ]
  },
  {
   "cell_type": "code",
   "execution_count": 92,
   "id": "11a933f8-c3b3-45cd-859c-91aaa321c0d9",
   "metadata": {},
   "outputs": [
    {
     "name": "stdout",
     "output_type": "stream",
     "text": [
      "1\n",
      "2\n",
      "3\n",
      "4\n"
     ]
    }
   ],
   "source": [
    "t = (1, 2, 3, 4)\n",
    "a,b,c,d = t\n",
    "\n",
    "print(a)\n",
    "print(b)\n",
    "print(c)\n",
    "print(d)\n"
   ]
  },
  {
   "cell_type": "markdown",
   "id": "27636d9d-59ed-43de-abe6-2f583ff9b43b",
   "metadata": {},
   "source": [
    "10. Create a tuple of even numbers from 1 to 10."
   ]
  },
  {
   "cell_type": "code",
   "execution_count": 95,
   "id": "7008f8ed-a128-4a7a-b7c7-723a2099f44d",
   "metadata": {},
   "outputs": [
    {
     "name": "stdout",
     "output_type": "stream",
     "text": [
      "(0, 2, 4, 6, 8)\n"
     ]
    }
   ],
   "source": [
    "t = tuple(x for x in range(10) if x%2==0)\n",
    "print(t)"
   ]
  },
  {
   "cell_type": "markdown",
   "id": "fdc9f30e-8991-4327-9233-82d35be4e5b3",
   "metadata": {},
   "source": [
    "11. Create a tuple of odd numbers from 1 to 10."
   ]
  },
  {
   "cell_type": "code",
   "execution_count": 96,
   "id": "6fc339ef-2149-4a83-9564-ba91ea296d66",
   "metadata": {},
   "outputs": [
    {
     "name": "stdout",
     "output_type": "stream",
     "text": [
      "(1, 3, 5, 7, 9)\n"
     ]
    }
   ],
   "source": [
    "t = tuple(x for x in range(10) if x%2!=0)\n",
    "print(t)"
   ]
  },
  {
   "cell_type": "markdown",
   "id": "42554f59-8248-4f6d-9ed2-461fb3d019da",
   "metadata": {},
   "source": [
    "12. Concatenate two tuples."
   ]
  },
  {
   "cell_type": "code",
   "execution_count": 97,
   "id": "bcfa7edd-228a-4ce8-a7ab-a8b41683f49a",
   "metadata": {},
   "outputs": [
    {
     "data": {
      "text/plain": [
       "(1, 2, 3, 4, 5, 6, 7, 8)"
      ]
     },
     "execution_count": 97,
     "metadata": {},
     "output_type": "execute_result"
    }
   ],
   "source": [
    "t = (1, 2, 3, 4)\n",
    "t1 = (5, 6, 7, 8)\n",
    "t2 = t+t1\n",
    "t2"
   ]
  },
  {
   "cell_type": "markdown",
   "id": "ad77d043-d680-4d77-89e1-2d433e758301",
   "metadata": {},
   "source": [
    "13. Repeat a tuple three times."
   ]
  },
  {
   "cell_type": "code",
   "execution_count": 98,
   "id": "21bd1e5e-bd61-47e5-a917-70c16f21c9ac",
   "metadata": {},
   "outputs": [
    {
     "data": {
      "text/plain": [
       "(1, 2, 3, 4, 1, 2, 3, 4, 1, 2, 3, 4)"
      ]
     },
     "execution_count": 98,
     "metadata": {},
     "output_type": "execute_result"
    }
   ],
   "source": [
    "t = (1, 2, 3, 4)\n",
    "t1 = t*3\n",
    "t1"
   ]
  },
  {
   "cell_type": "markdown",
   "id": "6744775b-98b7-4e37-a885-819342d5c36a",
   "metadata": {},
   "source": [
    "14. Check if a tuple is empty."
   ]
  },
  {
   "cell_type": "code",
   "execution_count": 99,
   "id": "7af8081b-a35c-4507-a9f8-bb6e3610983f",
   "metadata": {},
   "outputs": [
    {
     "name": "stdout",
     "output_type": "stream",
     "text": [
      "not empty\n"
     ]
    }
   ],
   "source": [
    "t =(1, 2, 3, 4)\n",
    "\n",
    "if len(t)>0:\n",
    "    print('not empty')\n",
    "else:\n",
    "    print('empty')"
   ]
  },
  {
   "cell_type": "markdown",
   "id": "afe39e75-3b04-4513-95ff-26538e428148",
   "metadata": {},
   "source": [
    "15. Create a nested tuple."
   ]
  },
  {
   "cell_type": "code",
   "execution_count": 100,
   "id": "aa23379d-ee43-44f1-b646-f83ebbc41f9c",
   "metadata": {},
   "outputs": [
    {
     "data": {
      "text/plain": [
       "(1, 2, 3, (4, 5, 6), 7, 8, (9,))"
      ]
     },
     "execution_count": 100,
     "metadata": {},
     "output_type": "execute_result"
    }
   ],
   "source": [
    "t  = (1,2,3, (4,5,6), 7, 8, (9,))\n",
    "t"
   ]
  },
  {
   "cell_type": "markdown",
   "id": "2d49308c-5776-4864-9365-debb38c429b7",
   "metadata": {},
   "source": [
    "16. Access the first element of a nested tuple."
   ]
  },
  {
   "cell_type": "code",
   "execution_count": 101,
   "id": "35201faf-0c61-4f0b-8f7e-568976c134bd",
   "metadata": {},
   "outputs": [
    {
     "data": {
      "text/plain": [
       "4"
      ]
     },
     "execution_count": 101,
     "metadata": {},
     "output_type": "execute_result"
    }
   ],
   "source": [
    "t  = (1,2,3, (4,5,6), 7, 8, (9,))\n",
    "\n",
    "t[3][0]"
   ]
  },
  {
   "cell_type": "markdown",
   "id": "a1cc1dfd-ed8f-4129-9ad7-98b1c2940dd1",
   "metadata": {},
   "source": [
    "17. Create a tuple with a single element."
   ]
  },
  {
   "cell_type": "code",
   "execution_count": 102,
   "id": "40b1ec59-45fa-467a-a142-d372859f8077",
   "metadata": {},
   "outputs": [
    {
     "data": {
      "text/plain": [
       "tuple"
      ]
     },
     "execution_count": 102,
     "metadata": {},
     "output_type": "execute_result"
    }
   ],
   "source": [
    "t =(1,)\n",
    "type(t)"
   ]
  },
  {
   "cell_type": "markdown",
   "id": "f9449338-c36b-475a-9cb7-f2a2eedb1f84",
   "metadata": {},
   "source": [
    "18. Compare two tuples."
   ]
  },
  {
   "cell_type": "code",
   "execution_count": 103,
   "id": "63f655f3-2653-4a0b-8506-164fa454ce87",
   "metadata": {},
   "outputs": [
    {
     "data": {
      "text/plain": [
       "False"
      ]
     },
     "execution_count": 103,
     "metadata": {},
     "output_type": "execute_result"
    }
   ],
   "source": [
    "t = (1, 2, 3, 4)\n",
    "t1 = (5, 6, 7, 8)\n",
    "\n",
    "t>t2"
   ]
  },
  {
   "cell_type": "markdown",
   "id": "288643d2-b68b-4bd1-b8a1-e59d75d19de3",
   "metadata": {},
   "source": [
    "19. Delete a tuple."
   ]
  },
  {
   "cell_type": "code",
   "execution_count": 107,
   "id": "d82979e8-ef97-478b-885a-7dc8ee8f53d1",
   "metadata": {},
   "outputs": [],
   "source": [
    "t = (1, 2, 3, 4)\n",
    "del(t)\n"
   ]
  },
  {
   "cell_type": "markdown",
   "id": "ccba470b-3398-45fb-8f64-f9175a40383b",
   "metadata": {},
   "source": [
    "20. Slice a tuple."
   ]
  },
  {
   "cell_type": "code",
   "execution_count": 111,
   "id": "6356a842-1239-4e9d-a042-9099ec358649",
   "metadata": {},
   "outputs": [
    {
     "name": "stdout",
     "output_type": "stream",
     "text": [
      "(3, 4, 5)\n"
     ]
    }
   ],
   "source": [
    "t = (1, 2, 3, 4, 5, 6, 7)\n",
    "print(t[2:5])\n"
   ]
  },
  {
   "cell_type": "markdown",
   "id": "389995fb-c855-4267-9393-d731919b2ce3",
   "metadata": {},
   "source": [
    "21. Find the maximum value in a tuple."
   ]
  },
  {
   "cell_type": "code",
   "execution_count": 112,
   "id": "3ccbdc63-4f26-4ebf-84f9-a347c1949856",
   "metadata": {},
   "outputs": [
    {
     "data": {
      "text/plain": [
       "7"
      ]
     },
     "execution_count": 112,
     "metadata": {},
     "output_type": "execute_result"
    }
   ],
   "source": [
    "t = (1, 2, 3, 4, 5, 6, 7)\n",
    "max(t)"
   ]
  },
  {
   "cell_type": "markdown",
   "id": "f5e61d7d-4a3b-4031-94e5-38927dc249cd",
   "metadata": {},
   "source": [
    "22. Find the minimum value in a tuple."
   ]
  },
  {
   "cell_type": "code",
   "execution_count": 113,
   "id": "8512548e-eadc-4a44-a0e4-7bc6c1491969",
   "metadata": {},
   "outputs": [
    {
     "data": {
      "text/plain": [
       "1"
      ]
     },
     "execution_count": 113,
     "metadata": {},
     "output_type": "execute_result"
    }
   ],
   "source": [
    "t = (1, 2, 3, 4, 5, 6, 7)\n",
    "min(t)"
   ]
  },
  {
   "cell_type": "markdown",
   "id": "78856c22-2961-485f-b874-1845b600615a",
   "metadata": {},
   "source": [
    "23. Convert a string to a tuple of characters."
   ]
  },
  {
   "cell_type": "code",
   "execution_count": 114,
   "id": "fe7d0e59-aa0b-4c50-942e-ed4bf62dce77",
   "metadata": {},
   "outputs": [
    {
     "data": {
      "text/plain": [
       "('h', 'e', 'l', 'l', 'o', ' ', 'W', 'o', 'r', 'l', 'd')"
      ]
     },
     "execution_count": 114,
     "metadata": {},
     "output_type": "execute_result"
    }
   ],
   "source": [
    "s = \"hello World\"\n",
    "t = tuple(s)\n",
    "t"
   ]
  },
  {
   "cell_type": "markdown",
   "id": "9a32e52e-01e1-4e35-ab13-95bb533ff26f",
   "metadata": {},
   "source": [
    "24. Convert a tuple of characters to a string."
   ]
  },
  {
   "cell_type": "code",
   "execution_count": 117,
   "id": "43b73c08-cb66-4303-bab2-3ad74f9e3f66",
   "metadata": {},
   "outputs": [
    {
     "data": {
      "text/plain": [
       "'hello World'"
      ]
     },
     "execution_count": 117,
     "metadata": {},
     "output_type": "execute_result"
    }
   ],
   "source": [
    "t = ('h', 'e', 'l', 'l', 'o', ' ', 'W', 'o', 'r', 'l', 'd')\n",
    "s = \"\".join(t)\n",
    "s"
   ]
  },
  {
   "cell_type": "markdown",
   "id": "5a491122-1fa4-4eb9-918b-8e83d2e5049a",
   "metadata": {},
   "source": [
    "25. Create a tuple from multiple data types."
   ]
  },
  {
   "cell_type": "code",
   "execution_count": 120,
   "id": "9c95c6fc-eee4-4617-a763-fa7881e07f53",
   "metadata": {},
   "outputs": [
    {
     "data": {
      "text/plain": [
       "(1, 1.5, 'hi', [1, 2, 3])"
      ]
     },
     "execution_count": 120,
     "metadata": {},
     "output_type": "execute_result"
    }
   ],
   "source": [
    "t = (1, 1.5, 'hi', [1,2,3])\n",
    "t"
   ]
  },
  {
   "cell_type": "markdown",
   "id": "dc7aaa59-cb3a-4727-b89d-bd8fc3a7ac76",
   "metadata": {},
   "source": [
    "26. Check if two tuples are identical."
   ]
  },
  {
   "cell_type": "code",
   "execution_count": 122,
   "id": "9e90f7cd-af27-424f-a18c-4290b9109073",
   "metadata": {},
   "outputs": [
    {
     "name": "stdout",
     "output_type": "stream",
     "text": [
      "True\n"
     ]
    }
   ],
   "source": [
    "t = (1,2,3,4)\n",
    "t1= (1,2,3,4)\n",
    "\n",
    "print(t==t1)"
   ]
  },
  {
   "cell_type": "markdown",
   "id": "9d598007-f4a0-4f94-abb1-94f3e8c62aad",
   "metadata": {},
   "source": [
    "27. Sort the elements of a tuple."
   ]
  },
  {
   "cell_type": "code",
   "execution_count": 126,
   "id": "c87ec20a-c05d-4c09-95be-421981cb314b",
   "metadata": {},
   "outputs": [
    {
     "name": "stdout",
     "output_type": "stream",
     "text": [
      "(2, 3, 5, 5, 5, 7, 22)\n"
     ]
    }
   ],
   "source": [
    "t = (3,5,22,5,2,7,5)\n",
    "\n",
    "t1= tuple(sorted(t))\n",
    "\n",
    "print(t1)"
   ]
  },
  {
   "cell_type": "markdown",
   "id": "4e14a1a2-fea0-4a7c-9512-b7f909eabcd5",
   "metadata": {},
   "source": [
    "28. Convert a tuple of integers to a tuple of strings."
   ]
  },
  {
   "cell_type": "code",
   "execution_count": 129,
   "id": "adbd4c22-998a-4b88-9e69-b95d653be4a2",
   "metadata": {},
   "outputs": [
    {
     "data": {
      "text/plain": [
       "('1', '2', '3', '4', '5')"
      ]
     },
     "execution_count": 129,
     "metadata": {},
     "output_type": "execute_result"
    }
   ],
   "source": [
    "t = (1,2,3,4,5)\n",
    "t1 = tuple(str(i) for i in t)\n",
    "t1\n",
    "\n"
   ]
  },
  {
   "cell_type": "markdown",
   "id": "4df379e1-0b6c-4041-b822-09ee86f747f6",
   "metadata": {},
   "source": [
    "29. Convert a tuple of strings to a tuple of integers."
   ]
  },
  {
   "cell_type": "code",
   "execution_count": 130,
   "id": "fefc147d-f6c1-4484-a905-593a4edab43f",
   "metadata": {},
   "outputs": [
    {
     "data": {
      "text/plain": [
       "(1, 2, 3, 4, 5)"
      ]
     },
     "execution_count": 130,
     "metadata": {},
     "output_type": "execute_result"
    }
   ],
   "source": [
    "t = ('1', '2', '3', '4', '5')\n",
    "t1 = tuple(int(i) for i in t)\n",
    "t1"
   ]
  },
  {
   "cell_type": "markdown",
   "id": "ce3d91e0-cec3-48c0-bb2f-ccb56f080e04",
   "metadata": {},
   "source": [
    "30. Merge two tuples."
   ]
  },
  {
   "cell_type": "code",
   "execution_count": 131,
   "id": "7c05f04f-66ab-41a4-98e2-fe12c974461f",
   "metadata": {},
   "outputs": [
    {
     "data": {
      "text/plain": [
       "(1, 2, 3, 4, 5, 6, 7, 8)"
      ]
     },
     "execution_count": 131,
     "metadata": {},
     "output_type": "execute_result"
    }
   ],
   "source": [
    "t = (1,2,3,4,5)\n",
    "t1 = (6,7,8)\n",
    "t2 = t+t1\n",
    "t2"
   ]
  },
  {
   "cell_type": "markdown",
   "id": "06ad7ae3-4fa0-4f33-8414-6593a6ec8347",
   "metadata": {},
   "source": [
    "31. Flatten a nested tuple."
   ]
  },
  {
   "cell_type": "code",
   "execution_count": 138,
   "id": "39c8577b-d4ac-40cc-960a-cb08b1a0bfb4",
   "metadata": {},
   "outputs": [
    {
     "name": "stdout",
     "output_type": "stream",
     "text": [
      "Flat tuple:  (1, 2, 3, 4, 5, 6, 7, 8, 9, 10)\n"
     ]
    }
   ],
   "source": [
    "l = (1, 2, (3, 4, (5, 6) ), 7, 8, (9, (10) ) )\n",
    "flat = []\n",
    "def get_flat(l):\n",
    "    for i in l:\n",
    "        if type(i) ==tuple:\n",
    "            get_flat(i)\n",
    "        else:\n",
    "            flat.append(i)\n",
    "    return tuple(flat) \n",
    "    \n",
    "\n",
    "print('Flat tuple: ', get_flat(l))"
   ]
  },
  {
   "cell_type": "markdown",
   "id": "e4b30976-050b-4e82-91c0-a9f295bb4bc0",
   "metadata": {},
   "source": [
    "32. Create a tuple of the first 5 prime numbers."
   ]
  },
  {
   "cell_type": "code",
   "execution_count": 140,
   "id": "185a7e31-51c8-495d-9d96-27cea0866f66",
   "metadata": {},
   "outputs": [
    {
     "name": "stdout",
     "output_type": "stream",
     "text": [
      "(1, 2, 3, 5)\n"
     ]
    }
   ],
   "source": [
    "l=[]\n",
    "\n",
    "for i in range(1, 6):\n",
    "    flag=True\n",
    "    if i==1:\n",
    "        l.append(i)\n",
    "        flag=False\n",
    "    \n",
    "    else:\n",
    "        for x in range(2, i//2+1):\n",
    "            if i%x == 0:\n",
    "                flag=False\n",
    "                break\n",
    "    \n",
    "    if flag:\n",
    "        l.append(i)\n",
    "\n",
    "        \n",
    "print(tuple(l))"
   ]
  },
  {
   "cell_type": "markdown",
   "id": "eb4b1640-9a0c-434d-ab59-dd6633896646",
   "metadata": {},
   "source": [
    "33. Check if a tuple is a palindrome."
   ]
  },
  {
   "cell_type": "code",
   "execution_count": 142,
   "id": "10e41bb9-6276-45db-abac-750c06a0b895",
   "metadata": {},
   "outputs": [
    {
     "name": "stdout",
     "output_type": "stream",
     "text": [
      "True\n",
      "False\n"
     ]
    }
   ],
   "source": [
    "t = (1,2,3,2,1)\n",
    "t1 = (1,2,3,4,5,6)\n",
    "print(t==t[::-1]) # palendrome\n",
    "print(t1==t1[::-1])"
   ]
  },
  {
   "cell_type": "markdown",
   "id": "84fde2af-2476-412d-8e87-277f28d6bcb5",
   "metadata": {},
   "source": [
    "34. Create a tuple of squares of numbers from 1 to 5."
   ]
  },
  {
   "cell_type": "code",
   "execution_count": 145,
   "id": "a9f6d725-b724-4007-8317-a3a5d7477004",
   "metadata": {},
   "outputs": [
    {
     "data": {
      "text/plain": [
       "(1, 4, 9, 16, 25)"
      ]
     },
     "execution_count": 145,
     "metadata": {},
     "output_type": "execute_result"
    }
   ],
   "source": [
    "t = tuple(x*x for x in range(1,6))\n",
    "t"
   ]
  },
  {
   "cell_type": "markdown",
   "id": "5bfb2a02-0faf-46f4-800b-e87e77ec5a95",
   "metadata": {},
   "source": [
    "35. Filter out all even numbers from a tuple."
   ]
  },
  {
   "cell_type": "code",
   "execution_count": 15,
   "id": "a5170328-94ea-419e-af52-e1daa21fb4dc",
   "metadata": {},
   "outputs": [
    {
     "name": "stdout",
     "output_type": "stream",
     "text": [
      "(0, 1, 2, 3, 4, 5, 6, 7, 8, 9)\n",
      "(1, 3, 5, 7, 9)\n"
     ]
    }
   ],
   "source": [
    "t = tuple(x for x in range(10))\n",
    "print(t)\n",
    "l = []\n",
    "for i in t:\n",
    "    if i%2!=0:\n",
    "        l.append(i)\n",
    "l = tuple(l)\n",
    "print(l)"
   ]
  },
  {
   "cell_type": "markdown",
   "id": "2cdb4ba5-3ca9-4abb-9d5d-9785b121fc9c",
   "metadata": {},
   "source": [
    "36. Multiply all elements in a tuple by 2."
   ]
  },
  {
   "cell_type": "code",
   "execution_count": 13,
   "id": "300f2201-a941-4a26-a639-915cf958f266",
   "metadata": {},
   "outputs": [
    {
     "data": {
      "text/plain": [
       "(2, 4, 6, 8)"
      ]
     },
     "execution_count": 13,
     "metadata": {},
     "output_type": "execute_result"
    }
   ],
   "source": [
    "t = (1,2,3,4)\n",
    "\n",
    "l = list()\n",
    "\n",
    "for i in t:\n",
    "    l.append(i*2)\n",
    "l = tuple(l)\n",
    "l"
   ]
  },
  {
   "cell_type": "markdown",
   "id": "3bb135c8-a838-4bba-b72b-ca97c248fba2",
   "metadata": {},
   "source": [
    "37. Create a tuple of random numbers."
   ]
  },
  {
   "cell_type": "code",
   "execution_count": 17,
   "id": "5887a1a8-5d3e-4fd4-b04a-e98124667f56",
   "metadata": {},
   "outputs": [
    {
     "data": {
      "text/plain": [
       "(17, 28, 19, 28, 12, 29, 15, 6, 4, 2)"
      ]
     },
     "execution_count": 17,
     "metadata": {},
     "output_type": "execute_result"
    }
   ],
   "source": [
    "import random\n",
    "\n",
    "t = tuple(random.randint(1,30) for x in range(10))\n",
    "t"
   ]
  },
  {
   "cell_type": "markdown",
   "id": "2017cb3e-ba7e-48b2-a5ac-a28a3779086d",
   "metadata": {},
   "source": [
    "38. Check if a tuple is sorted."
   ]
  },
  {
   "cell_type": "code",
   "execution_count": 22,
   "id": "75905b2c-a84a-42ac-84fc-b807296c73b7",
   "metadata": {},
   "outputs": [
    {
     "name": "stdout",
     "output_type": "stream",
     "text": [
      "(10, 29, 6, 19, 30, 10, 16, 23, 29, 7)\n",
      "Not Sorted\n"
     ]
    }
   ],
   "source": [
    "t = tuple(random.randint(1,30) for x in range(10))\n",
    "print(t)\n",
    "\n",
    "flag = True\n",
    "\n",
    "for i in range(len(t)-1):\n",
    "    if t[i]> t[i+1]:\n",
    "        flag = False\n",
    "\n",
    "if flag:\n",
    "    print('Sorted')\n",
    "else:\n",
    "    print('Not Sorted')\n",
    "    "
   ]
  },
  {
   "cell_type": "markdown",
   "id": "95e84396-16ef-4c05-8775-83dee963d45b",
   "metadata": {},
   "source": [
    "40. Rotate a tuple to the right by `n` positions."
   ]
  },
  {
   "cell_type": "code",
   "execution_count": 24,
   "id": "1b88c0a6-0e00-485c-8016-a97ba45a9b49",
   "metadata": {},
   "outputs": [
    {
     "data": {
      "text/plain": [
       "(4, 5, 6, 7, 8, 1, 2, 3)"
      ]
     },
     "execution_count": 24,
     "metadata": {},
     "output_type": "execute_result"
    }
   ],
   "source": [
    "t = (1,2,3,4,5,6,7,8)\n",
    "n = 3\n",
    "t1 = tuple(list(t[3:] + t[:3]))\n",
    "t1"
   ]
  },
  {
   "cell_type": "markdown",
   "id": "403e1f82-00e5-4f22-a697-073fde94e4e7",
   "metadata": {},
   "source": [
    "41. Create a tuple of the first 5 Fibonacci numbers."
   ]
  },
  {
   "cell_type": "code",
   "execution_count": 120,
   "id": "bcdb7f49-3e53-4aa0-8397-e00a9851cac3",
   "metadata": {},
   "outputs": [
    {
     "data": {
      "text/plain": [
       "(0, 1, 1, 2, 3, 5)"
      ]
     },
     "execution_count": 120,
     "metadata": {},
     "output_type": "execute_result"
    }
   ],
   "source": [
    "t = []\n",
    "\n",
    "for i in range(6):\n",
    "    if i == 0 or i==1:\n",
    "        t.append(i)\n",
    "    else:\n",
    "        t.append(t[i-1]+t[i-2])\n",
    "        \n",
    "t = tuple(t)\n",
    "t"
   ]
  },
  {
   "cell_type": "markdown",
   "id": "1ca039ae-3bfc-4686-b260-13f0755c3520",
   "metadata": {},
   "source": [
    "42. Create a tuple from user input."
   ]
  },
  {
   "cell_type": "code",
   "execution_count": 28,
   "id": "207470a9-bbbe-41cf-8411-327a49d03d75",
   "metadata": {},
   "outputs": [
    {
     "name": "stdin",
     "output_type": "stream",
     "text": [
      "Enter size of tuple:  4\n",
      "Enter thr Element for tuple:  1\n",
      "Enter thr Element for tuple:  2\n",
      "Enter thr Element for tuple:  3\n",
      "Enter thr Element for tuple:  4\n"
     ]
    },
    {
     "data": {
      "text/plain": [
       "(1, 2, 3, 4)"
      ]
     },
     "execution_count": 28,
     "metadata": {},
     "output_type": "execute_result"
    }
   ],
   "source": [
    "n = int(input('Enter size of tuple: '))\n",
    "\n",
    "t = []\n",
    "\n",
    "for i in range(n):\n",
    "    t.append(int(input('Enter thr Element for tuple: ')))\n",
    "    \n",
    "t = tuple(t)\n",
    "t"
   ]
  },
  {
   "cell_type": "markdown",
   "id": "90a96cfc-040d-4599-a0db-8f4b203c5df1",
   "metadata": {},
   "source": [
    "43. Swap two elements in a tuple."
   ]
  },
  {
   "cell_type": "code",
   "execution_count": 29,
   "id": "0f5cc3ca-fea6-43a6-a8e4-53e8b428bfcd",
   "metadata": {},
   "outputs": [
    {
     "data": {
      "text/plain": [
       "(2, 1)"
      ]
     },
     "execution_count": 29,
     "metadata": {},
     "output_type": "execute_result"
    }
   ],
   "source": [
    "t = (1,2)\n",
    "t = list(t)\n",
    "t[0],t[1] = t[1], t[0]\n",
    "\n",
    "t = tuple(t)\n",
    "t"
   ]
  },
  {
   "cell_type": "markdown",
   "id": "208e49ba-294e-4912-bb9e-c69f972ed38e",
   "metadata": {},
   "source": [
    "44. Reverse the elements of a tuple."
   ]
  },
  {
   "cell_type": "code",
   "execution_count": 30,
   "id": "4c459a66-9f8d-4c46-9cd7-c72ca9a669f5",
   "metadata": {},
   "outputs": [
    {
     "data": {
      "text/plain": [
       "(2, 1)"
      ]
     },
     "execution_count": 30,
     "metadata": {},
     "output_type": "execute_result"
    }
   ],
   "source": [
    "t = (1,2)\n",
    "t = list(t)\n",
    "t[0],t[1] = t[1], t[0]\n",
    "\n",
    "t = tuple(t)\n",
    "t"
   ]
  },
  {
   "cell_type": "markdown",
   "id": "2b54bca5-ce3f-40c9-ba17-92d014f136c6",
   "metadata": {},
   "source": [
    "45. Create a tuple of the first `n` powers of 2."
   ]
  },
  {
   "cell_type": "code",
   "execution_count": 31,
   "id": "d52826aa-0548-4114-b0e4-7acf6a3b4831",
   "metadata": {},
   "outputs": [
    {
     "data": {
      "text/plain": [
       "(0, 2, 4, 6, 8, 10, 12, 14)"
      ]
     },
     "execution_count": 31,
     "metadata": {},
     "output_type": "execute_result"
    }
   ],
   "source": [
    "n = 8\n",
    "t = tuple(2*i for i in range(n))\n",
    "t"
   ]
  },
  {
   "cell_type": "markdown",
   "id": "748dda38-75c1-46d2-8e6d-71d5edfc2046",
   "metadata": {},
   "source": [
    "46. Find the longest string in a tuple of strings."
   ]
  },
  {
   "cell_type": "code",
   "execution_count": 32,
   "id": "97323aa8-6099-40f1-be49-6f37bb56a320",
   "metadata": {},
   "outputs": [
    {
     "name": "stdout",
     "output_type": "stream",
     "text": [
      "watermelon\n"
     ]
    }
   ],
   "source": [
    "t = ('apple', 'banana', 'watermelon', 'orange')\n",
    "\n",
    "print(max(t))"
   ]
  },
  {
   "cell_type": "markdown",
   "id": "21e1133b-aff6-47ef-a3bd-6654b65f27ca",
   "metadata": {},
   "source": [
    "47. Find the shortest string in a tuple of strings."
   ]
  },
  {
   "cell_type": "code",
   "execution_count": 33,
   "id": "ae84f8aa-bbb0-49d0-a2e7-3a8487d81300",
   "metadata": {},
   "outputs": [
    {
     "name": "stdout",
     "output_type": "stream",
     "text": [
      "apple\n"
     ]
    }
   ],
   "source": [
    "t = ('apple', 'banana', 'watermelon', 'orange')\n",
    "\n",
    "print(min(t))"
   ]
  },
  {
   "cell_type": "markdown",
   "id": "e70a84df-27f3-4722-a3c8-b7b4419402ec",
   "metadata": {},
   "source": [
    "48. Create a tuple of the first `n` triangular numbers."
   ]
  },
  {
   "cell_type": "code",
   "execution_count": 34,
   "id": "7d3cb1db-4021-4b9d-bb5e-871343627f3a",
   "metadata": {},
   "outputs": [
    {
     "data": {
      "text/plain": [
       "(1, 3, 6, 10, 15)"
      ]
     },
     "execution_count": 34,
     "metadata": {},
     "output_type": "execute_result"
    }
   ],
   "source": [
    "n =5\n",
    "l =[]\n",
    "for i in range(1, n + 1):\n",
    "    l.append( i*(i+1)//2)\n",
    "    \n",
    "l = tuple(l)\n",
    "l"
   ]
  },
  {
   "cell_type": "markdown",
   "id": "6811f018-9c00-4731-ab92-e8ffa9f7ef70",
   "metadata": {},
   "source": [
    "49. Check if a tuple contains another tuple as a subsequence."
   ]
  },
  {
   "cell_type": "code",
   "execution_count": 35,
   "id": "d8bb1d34-fd31-4f83-bf8f-4f8bd380fb55",
   "metadata": {},
   "outputs": [
    {
     "name": "stdout",
     "output_type": "stream",
     "text": [
      "Yes list contains another list as a subsequence\n"
     ]
    }
   ],
   "source": [
    "test_list = (9, 4, 5, 8, 10)\n",
    "sub_list = (10, 5, 4)\n",
    "flag=0\n",
    "if all(x in test_list for x in sub_list):\n",
    "    flag=1\n",
    "if flag:\n",
    "    print(\"Yes list contains another list as a subsequence\")\n",
    "else:\n",
    "    print(\"No list does not contain another list as a subsequence\")"
   ]
  },
  {
   "cell_type": "markdown",
   "id": "6d87d840-7cc3-405e-a215-325a6064ff94",
   "metadata": {},
   "source": [
    "50. Create a tuple of alternating 1s and 0s of length `n`."
   ]
  },
  {
   "cell_type": "code",
   "execution_count": null,
   "id": "270608a5-5d1c-43e5-84a5-1e570cc5dedd",
   "metadata": {},
   "outputs": [],
   "source": [
    "t = []\n",
    "n = 10\n",
    "for i in range(n):\n",
    "    if i%2==0:\n",
    "        t.append(0)\n",
    "    else:\n",
    "        t.append(1)\n",
    "\n",
    "t = tu"
   ]
  },
  {
   "cell_type": "markdown",
   "id": "3af149d4-bedc-40a1-84cb-e14dd6d1d20f",
   "metadata": {},
   "source": [
    "## Set Based Practice Problem :"
   ]
  },
  {
   "cell_type": "markdown",
   "id": "e43114c1-5706-4849-ba45-0e6f4160a8df",
   "metadata": {},
   "source": [
    "1. Create a set with integers from 1 to 5."
   ]
  },
  {
   "cell_type": "code",
   "execution_count": 1,
   "id": "497a76a5-e33c-4b31-b698-6ee3aae61262",
   "metadata": {},
   "outputs": [
    {
     "data": {
      "text/plain": [
       "{1, 2, 3, 4, 5}"
      ]
     },
     "execution_count": 1,
     "metadata": {},
     "output_type": "execute_result"
    }
   ],
   "source": [
    "s = {x for x in range(1,6)}\n",
    "s"
   ]
  },
  {
   "cell_type": "markdown",
   "id": "8bac82f3-d606-4626-8922-bbb8941b7c51",
   "metadata": {},
   "source": [
    "2. Add an element to a set."
   ]
  },
  {
   "cell_type": "code",
   "execution_count": 4,
   "id": "87e72b66-9efb-4c8b-83c0-32ee5322b35e",
   "metadata": {},
   "outputs": [
    {
     "name": "stdout",
     "output_type": "stream",
     "text": [
      "{1, 2, 3, 4}\n"
     ]
    },
    {
     "data": {
      "text/plain": [
       "{1, 2, 3, 4, 5}"
      ]
     },
     "execution_count": 4,
     "metadata": {},
     "output_type": "execute_result"
    }
   ],
   "source": [
    "s = {1,2,3, 4}\n",
    "print(s)\n",
    "\n",
    "s.add(5)\n",
    "s"
   ]
  },
  {
   "cell_type": "markdown",
   "id": "0f3ca7cd-c43d-410e-adfc-b9438454bf5d",
   "metadata": {},
   "source": [
    "3. Remove an element from a set."
   ]
  },
  {
   "cell_type": "code",
   "execution_count": 9,
   "id": "097f52c6-cc42-4cf4-ba41-b9f78eb9fb22",
   "metadata": {},
   "outputs": [
    {
     "name": "stdout",
     "output_type": "stream",
     "text": [
      "{1, 2, 3, 4, 5}\n"
     ]
    },
    {
     "data": {
      "text/plain": [
       "{2, 3, 4, 5}"
      ]
     },
     "execution_count": 9,
     "metadata": {},
     "output_type": "execute_result"
    }
   ],
   "source": [
    "s = {1,2,3, 4, 5}\n",
    "print(s)\n",
    "\n",
    "s.pop()\n",
    "s"
   ]
  },
  {
   "cell_type": "markdown",
   "id": "80146da7-4893-4a72-bc61-9e90dc499f3f",
   "metadata": {},
   "source": [
    "4. Check if an element exists in a set."
   ]
  },
  {
   "cell_type": "code",
   "execution_count": 10,
   "id": "7044efb1-5243-43d9-bbfe-41cfdf32cc39",
   "metadata": {},
   "outputs": [
    {
     "name": "stdout",
     "output_type": "stream",
     "text": [
      "Yes\n"
     ]
    }
   ],
   "source": [
    "s = {1,2,3,4,5}\n",
    "\n",
    "if 5 in s:\n",
    "    print('Yes')\n",
    "else:\n",
    "    print('No')"
   ]
  },
  {
   "cell_type": "markdown",
   "id": "af35597e-378a-40a1-bca2-04f80e5c7fb3",
   "metadata": {},
   "source": [
    "5. Find the length of a set without using the `len()` function."
   ]
  },
  {
   "cell_type": "code",
   "execution_count": 13,
   "id": "6848f6ad-4399-403b-a2a4-f1ca05be3749",
   "metadata": {},
   "outputs": [
    {
     "name": "stdout",
     "output_type": "stream",
     "text": [
      "Len:  5\n"
     ]
    }
   ],
   "source": [
    "s = {1,2,3,4,5}\n",
    "c = 0\n",
    "\n",
    "for i in s:\n",
    "    c+=1\n",
    "print('Len: ',c)"
   ]
  },
  {
   "cell_type": "markdown",
   "id": "21bda780-d438-470b-8b78-4da82453f56d",
   "metadata": {},
   "source": [
    "6. Clear all elements from a set."
   ]
  },
  {
   "cell_type": "code",
   "execution_count": 16,
   "id": "982e9ff5-416d-4b88-8dcd-a636344e94c4",
   "metadata": {},
   "outputs": [
    {
     "name": "stdout",
     "output_type": "stream",
     "text": [
      "{1, 2, 3, 4, 5}\n",
      "None\n"
     ]
    }
   ],
   "source": [
    "s = {1,2,3,4,5}\n",
    "print(s)\n",
    "print(s.clear())"
   ]
  },
  {
   "cell_type": "markdown",
   "id": "7f9a6e39-e176-4393-aa41-0847fa34645e",
   "metadata": {},
   "source": [
    "7. Create a set of even numbers from 1 to 10."
   ]
  },
  {
   "cell_type": "code",
   "execution_count": 20,
   "id": "220f75df-39b9-4bf0-8323-4a362cdd92d6",
   "metadata": {},
   "outputs": [
    {
     "data": {
      "text/plain": [
       "{2, 4, 6, 8, 10}"
      ]
     },
     "execution_count": 20,
     "metadata": {},
     "output_type": "execute_result"
    }
   ],
   "source": [
    "s = {x for x in range(1, 11) if x%2==0}\n",
    "s"
   ]
  },
  {
   "cell_type": "markdown",
   "id": "e43d19e6-b9f2-4532-aa44-31ce6a296566",
   "metadata": {},
   "source": [
    "8. Create a set of odd numbers from 1 to 10."
   ]
  },
  {
   "cell_type": "code",
   "execution_count": 21,
   "id": "b7562e9e-6cc5-493d-b1ca-1aa796240325",
   "metadata": {},
   "outputs": [
    {
     "data": {
      "text/plain": [
       "{1, 3, 5, 7, 9}"
      ]
     },
     "execution_count": 21,
     "metadata": {},
     "output_type": "execute_result"
    }
   ],
   "source": [
    "s = {x for x in range(1, 11) if x%2!=0}\n",
    "s"
   ]
  },
  {
   "cell_type": "markdown",
   "id": "c7eb28b1-cc1e-476b-b528-cfb2778e577c",
   "metadata": {},
   "source": [
    "9. Find the union of two sets."
   ]
  },
  {
   "cell_type": "code",
   "execution_count": 24,
   "id": "c918f0a0-bd02-498c-b371-2b060753d868",
   "metadata": {},
   "outputs": [
    {
     "name": "stdout",
     "output_type": "stream",
     "text": [
      "{13, 14, 17, 28, 29, 30} {2, 3, 11, 12, 16, 19}\n"
     ]
    },
    {
     "data": {
      "text/plain": [
       "{2, 3, 11, 12, 13, 14, 16, 17, 19, 28, 29, 30}"
      ]
     },
     "execution_count": 24,
     "metadata": {},
     "output_type": "execute_result"
    }
   ],
   "source": [
    "import random\n",
    "\n",
    "s1 = {random.randint(1,30) for x in range(6)}\n",
    "s2 = {random.randint(1,30) for x in range(6)}\n",
    "print(s1,s2)\n",
    "s1.union(s2)"
   ]
  },
  {
   "cell_type": "markdown",
   "id": "b48e18e3-706a-47eb-be96-59814f741d27",
   "metadata": {},
   "source": [
    "10. Find the intersection of two sets."
   ]
  },
  {
   "cell_type": "code",
   "execution_count": 26,
   "id": "fbaee292-0007-46b3-845e-b6e9be7bbfc0",
   "metadata": {},
   "outputs": [
    {
     "name": "stdout",
     "output_type": "stream",
     "text": [
      "{2, 4, 12, 14, 17} {7, 12, 19, 26, 27, 28}\n"
     ]
    },
    {
     "data": {
      "text/plain": [
       "{12}"
      ]
     },
     "execution_count": 26,
     "metadata": {},
     "output_type": "execute_result"
    }
   ],
   "source": [
    "s1 = {random.randint(1,30) for x in range(6)}\n",
    "s2 = {random.randint(1,30) for x in range(6)}\n",
    "print(s1,s2)\n",
    "\n",
    "s1.intersection(s2)"
   ]
  },
  {
   "cell_type": "markdown",
   "id": "805be95c-34c6-4e6f-8c8a-ec382e9da35e",
   "metadata": {},
   "source": [
    "11. Find the difference between two sets."
   ]
  },
  {
   "cell_type": "code",
   "execution_count": 29,
   "id": "8607b571-981e-438b-acad-5fc9d83e5033",
   "metadata": {},
   "outputs": [
    {
     "name": "stdout",
     "output_type": "stream",
     "text": [
      "{1, 7, 11, 16, 17, 30} {1, 2, 5, 13, 16, 26}\n"
     ]
    },
    {
     "data": {
      "text/plain": [
       "{7, 11, 17, 30}"
      ]
     },
     "execution_count": 29,
     "metadata": {},
     "output_type": "execute_result"
    }
   ],
   "source": [
    "s1 = {random.randint(1,30) for x in range(6)}\n",
    "s2 = {random.randint(1,30) for x in range(6)}\n",
    "print(s1,s2)\n",
    "\n",
    "s1.difference(s2)"
   ]
  },
  {
   "cell_type": "markdown",
   "id": "3f2a9102-fc13-4eaf-9b24-997300ecf5e0",
   "metadata": {},
   "source": [
    "12. Check if a set is a subset of another set."
   ]
  },
  {
   "cell_type": "code",
   "execution_count": 31,
   "id": "5ee73f31-90fa-4df7-b48c-278d49b1c6db",
   "metadata": {},
   "outputs": [
    {
     "data": {
      "text/plain": [
       "True"
      ]
     },
     "execution_count": 31,
     "metadata": {},
     "output_type": "execute_result"
    }
   ],
   "source": [
    "s = {1,2,3,4,5,6,7,8}\n",
    "s1 = {1,2,3,4}\n",
    "\n",
    "s1.issubset(s)"
   ]
  },
  {
   "cell_type": "markdown",
   "id": "09bc5c09-4e49-48db-a7a5-3a8029eaa48f",
   "metadata": {},
   "source": [
    "13. Check if a set is a superset of another set."
   ]
  },
  {
   "cell_type": "code",
   "execution_count": 32,
   "id": "378ebfd7-a678-4f5c-8919-7cd244456cb9",
   "metadata": {},
   "outputs": [
    {
     "data": {
      "text/plain": [
       "True"
      ]
     },
     "execution_count": 32,
     "metadata": {},
     "output_type": "execute_result"
    }
   ],
   "source": [
    "s = {1,2,3,4,5,6,7,8}\n",
    "s1 = {1,2,3,4}\n",
    "\n",
    "s.issuperset(s1)"
   ]
  },
  {
   "cell_type": "markdown",
   "id": "7176bce9-d2c5-4e29-846d-ddc4842d040a",
   "metadata": {},
   "source": [
    "14. Create a set from a list."
   ]
  },
  {
   "cell_type": "code",
   "execution_count": 33,
   "id": "b26a98db-4fbb-4261-8035-0f51c2dca038",
   "metadata": {},
   "outputs": [
    {
     "data": {
      "text/plain": [
       "{1, 2, 3, 4}"
      ]
     },
     "execution_count": 33,
     "metadata": {},
     "output_type": "execute_result"
    }
   ],
   "source": [
    "l = [1,2,3,4]\n",
    "s = set(l)\n",
    "s"
   ]
  },
  {
   "cell_type": "markdown",
   "id": "5637afaa-c538-45fb-86e5-c018a54d1e74",
   "metadata": {},
   "source": [
    "15. Convert a set to a list."
   ]
  },
  {
   "cell_type": "code",
   "execution_count": 34,
   "id": "02cfc821-4783-4675-81ad-eaf92f3ab0c5",
   "metadata": {},
   "outputs": [
    {
     "data": {
      "text/plain": [
       "[1, 2, 3]"
      ]
     },
     "execution_count": 34,
     "metadata": {},
     "output_type": "execute_result"
    }
   ],
   "source": [
    "s = {1,2,3}\n",
    "l = list(s)\n",
    "l"
   ]
  },
  {
   "cell_type": "markdown",
   "id": "192ab3e3-1750-44b6-9eaa-8054f2eae788",
   "metadata": {},
   "source": [
    "16. Remove a random element from a set."
   ]
  },
  {
   "cell_type": "code",
   "execution_count": 38,
   "id": "5e328998-3d1b-48af-8f1d-d3f5565e3cb8",
   "metadata": {},
   "outputs": [
    {
     "data": {
      "text/plain": [
       "{2, 3, 4, 5, 6, 7, 8}"
      ]
     },
     "execution_count": 38,
     "metadata": {},
     "output_type": "execute_result"
    }
   ],
   "source": [
    "s = {1,2,3,4,5,6,7,8}\n",
    "s.pop()\n",
    "s"
   ]
  },
  {
   "cell_type": "markdown",
   "id": "2e7075b3-7801-4b1d-89bb-948a326b7c40",
   "metadata": {},
   "source": [
    "17. Pop an element from a set."
   ]
  },
  {
   "cell_type": "code",
   "execution_count": 39,
   "id": "aa52b977-308d-4e46-b608-1e96339879c0",
   "metadata": {},
   "outputs": [
    {
     "data": {
      "text/plain": [
       "{2, 3, 4, 5, 6, 7, 8}"
      ]
     },
     "execution_count": 39,
     "metadata": {},
     "output_type": "execute_result"
    }
   ],
   "source": [
    "s = {1,2,3,4,5,6,7,8}\n",
    "s.pop()\n",
    "s"
   ]
  },
  {
   "cell_type": "markdown",
   "id": "3daa7225-1dc5-44a5-9012-db24d0036b1a",
   "metadata": {},
   "source": [
    "18. Check if two sets have no elements in common."
   ]
  },
  {
   "cell_type": "code",
   "execution_count": 46,
   "id": "cb8a1a25-1cf1-47fd-9b88-ffbd13896e64",
   "metadata": {},
   "outputs": [
    {
     "name": "stdout",
     "output_type": "stream",
     "text": [
      "{1, 11, 15, 18, 27} {9, 2, 20, 13}\n"
     ]
    },
    {
     "data": {
      "text/plain": [
       "True"
      ]
     },
     "execution_count": 46,
     "metadata": {},
     "output_type": "execute_result"
    }
   ],
   "source": [
    "s1 = {random.randint(1,30) for x in range(6)}\n",
    "s2 = {random.randint(1,30) for x in range(6)}\n",
    "print(s1,s2)\n",
    "\n",
    "s1.isdisjoint(s2)"
   ]
  },
  {
   "cell_type": "markdown",
   "id": "a155e08b-4c3e-4a3f-8e00-01d1d38ac983",
   "metadata": {},
   "source": [
    "19. Find the symmetric difference between two sets."
   ]
  },
  {
   "cell_type": "code",
   "execution_count": 47,
   "id": "38b96f1b-bd2b-445e-b81a-887934cb11c8",
   "metadata": {},
   "outputs": [
    {
     "name": "stdout",
     "output_type": "stream",
     "text": [
      "{3, 7, 14, 16, 20} {9, 10, 14, 17, 29}\n"
     ]
    },
    {
     "data": {
      "text/plain": [
       "{3, 7, 9, 10, 16, 17, 20, 29}"
      ]
     },
     "execution_count": 47,
     "metadata": {},
     "output_type": "execute_result"
    }
   ],
   "source": [
    "s1 = {random.randint(1,30) for x in range(6)}\n",
    "s2 = {random.randint(1,30) for x in range(6)}\n",
    "print(s1,s2)\n",
    "\n",
    "s1.symmetric_difference(s2)"
   ]
  },
  {
   "cell_type": "markdown",
   "id": "1daac64d-0394-44d8-a0e6-459ff78360e8",
   "metadata": {},
   "source": [
    "20. Update a set with elements from another set."
   ]
  },
  {
   "cell_type": "code",
   "execution_count": 48,
   "id": "267b4ebb-3d65-42e0-9d00-ca9f610c26b0",
   "metadata": {},
   "outputs": [
    {
     "name": "stdout",
     "output_type": "stream",
     "text": [
      "{2, 5, 7, 8, 18, 22} {17, 18, 2, 15}\n"
     ]
    },
    {
     "data": {
      "text/plain": [
       "{2, 5, 7, 8, 15, 17, 18, 22}"
      ]
     },
     "execution_count": 48,
     "metadata": {},
     "output_type": "execute_result"
    }
   ],
   "source": [
    "s1 = {random.randint(1,30) for x in range(6)}\n",
    "s2 = {random.randint(1,30) for x in range(6)}\n",
    "print(s1,s2)\n",
    "\n",
    "s1.update(s2)\n",
    "s1"
   ]
  },
  {
   "cell_type": "markdown",
   "id": "1fcb76a2-c493-4916-8429-7216c9864ddc",
   "metadata": {},
   "source": [
    "21. Create a set of the first 5 prime numbers."
   ]
  },
  {
   "cell_type": "code",
   "execution_count": 69,
   "id": "b4e2a036-4f2a-4c6c-b592-118f5f5d17b0",
   "metadata": {},
   "outputs": [
    {
     "data": {
      "text/plain": [
       "{1, 2, 3, 5, 7}"
      ]
     },
     "execution_count": 69,
     "metadata": {},
     "output_type": "execute_result"
    }
   ],
   "source": [
    "s = set()\n",
    " \n",
    "for i in range(1,50):\n",
    "    if len(s)>=5:\n",
    "        break\n",
    "    flag=True\n",
    "    if i==1:\n",
    "        s.add(i)\n",
    "        flag=False\n",
    "    \n",
    "    else:\n",
    "        for x in range(2, i//2+1):\n",
    "            if i%x == 0:\n",
    "                flag=False\n",
    "                break\n",
    "    \n",
    "    if flag:\n",
    "        s.add(i)\n",
    "\n",
    "s"
   ]
  },
  {
   "cell_type": "markdown",
   "id": "89781fed-d8fb-49a2-91d7-db1f14c6b8b7",
   "metadata": {},
   "source": [
    "22. Check if two sets are identical."
   ]
  },
  {
   "cell_type": "code",
   "execution_count": 70,
   "id": "2b127ec4-b8fe-4206-8821-d74b6bf07322",
   "metadata": {},
   "outputs": [
    {
     "data": {
      "text/plain": [
       "True"
      ]
     },
     "execution_count": 70,
     "metadata": {},
     "output_type": "execute_result"
    }
   ],
   "source": [
    "s1 = {1,2,3,4}\n",
    "s2 = {1,2,3,4}\n",
    "\n",
    "s1 == s2"
   ]
  },
  {
   "cell_type": "markdown",
   "id": "dcd06e66-f6c4-43a0-8797-e3275865b854",
   "metadata": {},
   "source": [
    "23. Create a frozen set."
   ]
  },
  {
   "cell_type": "code",
   "execution_count": 72,
   "id": "9be02cae-1188-4dc9-b6d5-81147e9683bb",
   "metadata": {},
   "outputs": [
    {
     "data": {
      "text/plain": [
       "frozenset"
      ]
     },
     "execution_count": 72,
     "metadata": {},
     "output_type": "execute_result"
    }
   ],
   "source": [
    "s = frozenset({1,2,3,4,5})\n",
    "type(s)\n"
   ]
  },
  {
   "cell_type": "markdown",
   "id": "1374c0d4-8b2b-4aab-90b8-2aa57e6bbc7f",
   "metadata": {},
   "source": [
    "24. Check if a set is disjoint with another set."
   ]
  },
  {
   "cell_type": "code",
   "execution_count": 73,
   "id": "a4c52dfb-22c8-4c05-a265-2afb69e0d73f",
   "metadata": {},
   "outputs": [
    {
     "data": {
      "text/plain": [
       "False"
      ]
     },
     "execution_count": 73,
     "metadata": {},
     "output_type": "execute_result"
    }
   ],
   "source": [
    "s1 = {1,2,3,4}\n",
    "s2 = {1,2,3,4}\n",
    "s1.isdisjoint(s2)"
   ]
  },
  {
   "cell_type": "markdown",
   "id": "075521d0-af27-4188-a58f-1660a1c8eecd",
   "metadata": {},
   "source": [
    "25. Create a set of squares of numbers from 1 to 5."
   ]
  },
  {
   "cell_type": "code",
   "execution_count": 75,
   "id": "810aa30e-81ff-4758-9ce2-edc0ab8f3ade",
   "metadata": {},
   "outputs": [
    {
     "data": {
      "text/plain": [
       "{1, 4, 9, 16, 25}"
      ]
     },
     "execution_count": 75,
     "metadata": {},
     "output_type": "execute_result"
    }
   ],
   "source": [
    "s = {x**2 for x in range(1,6)}\n",
    "s"
   ]
  },
  {
   "cell_type": "markdown",
   "id": "3a6836c0-2184-47de-b1ea-7a778a7828d3",
   "metadata": {},
   "source": [
    "26. Filter out all even numbers from a set."
   ]
  },
  {
   "cell_type": "code",
   "execution_count": 77,
   "id": "eb731bc5-6d16-4a12-8fc1-da7325f22cef",
   "metadata": {},
   "outputs": [
    {
     "name": "stdout",
     "output_type": "stream",
     "text": [
      "{1, 2, 3, 4, 5, 6, 7, 8, 9}\n"
     ]
    },
    {
     "data": {
      "text/plain": [
       "{1, 3, 5, 7, 9}"
      ]
     },
     "execution_count": 77,
     "metadata": {},
     "output_type": "execute_result"
    }
   ],
   "source": [
    "s = {1,2,3,4,5,6,7,8,9}\n",
    "print(s)\n",
    "s1 = {x for x in s if x%2!=0}\n",
    "s1"
   ]
  },
  {
   "cell_type": "markdown",
   "id": "d62e80aa-ce5e-445e-9cd4-f6a2ecfcd0bd",
   "metadata": {},
   "source": [
    "27. Multiply all elements in a set by 2."
   ]
  },
  {
   "cell_type": "code",
   "execution_count": 80,
   "id": "c39a37b4-f9ee-4152-804d-49a359a34572",
   "metadata": {},
   "outputs": [
    {
     "data": {
      "text/plain": [
       "{2, 4, 6, 8, 10, 12, 14, 16, 18}"
      ]
     },
     "execution_count": 80,
     "metadata": {},
     "output_type": "execute_result"
    }
   ],
   "source": [
    "s = {1,2,3,4,5,6,7,8,9}\n",
    "s = {x*2 for x in s}\n",
    "s"
   ]
  },
  {
   "cell_type": "markdown",
   "id": "f8b100bd-ff9a-4bae-96a4-0fd4b4f94fd7",
   "metadata": {},
   "source": [
    "28. Create a set of random numbers."
   ]
  },
  {
   "cell_type": "code",
   "execution_count": 84,
   "id": "b381c299-83ca-4f1d-a471-32c13ec05636",
   "metadata": {},
   "outputs": [
    {
     "data": {
      "text/plain": [
       "{1, 6, 9, 12, 18}"
      ]
     },
     "execution_count": 84,
     "metadata": {},
     "output_type": "execute_result"
    }
   ],
   "source": [
    "s = {random.randrange(1,20) for x in range(5)}\n",
    "s"
   ]
  },
  {
   "cell_type": "markdown",
   "id": "84691eae-d58d-46d3-8862-0b88f0b89373",
   "metadata": {},
   "source": [
    "29. Check if a set is empty."
   ]
  },
  {
   "cell_type": "code",
   "execution_count": 88,
   "id": "c324d92e-f2e2-48b5-a52c-d0f0ce2fff35",
   "metadata": {},
   "outputs": [
    {
     "name": "stdout",
     "output_type": "stream",
     "text": [
      "Not Empty:  True\n"
     ]
    }
   ],
   "source": [
    "s = {1,2,3,4}\n",
    "\n",
    "print('Not Empty: ',bool(s))"
   ]
  },
  {
   "cell_type": "markdown",
   "id": "857f3040-9128-42db-abf2-714f44fdb2f9",
   "metadata": {},
   "source": [
    "30. Create a nested set (hint: use frozenset)."
   ]
  },
  {
   "cell_type": "code",
   "execution_count": 94,
   "id": "9953c51c-0b7d-48dc-a5df-89da1d645594",
   "metadata": {},
   "outputs": [
    {
     "data": {
      "text/plain": [
       "frozenset({12, 5, 6, frozenset({1, 2}), frozenset({3, 4})})"
      ]
     },
     "execution_count": 94,
     "metadata": {},
     "output_type": "execute_result"
    }
   ],
   "source": [
    "s= frozenset([12, frozenset([1,2]),frozenset([3,4]),5,6])\n",
    "s"
   ]
  },
  {
   "cell_type": "markdown",
   "id": "7be92d73-43bd-498b-b053-1214666e6e1d",
   "metadata": {},
   "source": [
    "31. Remove an element from a set using the discard method."
   ]
  },
  {
   "cell_type": "code",
   "execution_count": 96,
   "id": "d4cfe506-4a67-467e-84c6-49d01614dfe6",
   "metadata": {},
   "outputs": [
    {
     "data": {
      "text/plain": [
       "{1, 2, 3}"
      ]
     },
     "execution_count": 96,
     "metadata": {},
     "output_type": "execute_result"
    }
   ],
   "source": [
    "s= {1,2,3,4}\n",
    "s.discard(4)\n",
    "s"
   ]
  },
  {
   "cell_type": "markdown",
   "id": "a6d2bd6f-f0b5-4e13-b00a-1718801c2e47",
   "metadata": {},
   "source": [
    "32. Compare two sets."
   ]
  },
  {
   "cell_type": "code",
   "execution_count": 97,
   "id": "5fc22c4a-41c6-41f1-8dca-64639e940df0",
   "metadata": {},
   "outputs": [
    {
     "data": {
      "text/plain": [
       "True"
      ]
     },
     "execution_count": 97,
     "metadata": {},
     "output_type": "execute_result"
    }
   ],
   "source": [
    "s = {1,2,3}\n",
    "s1 = {2,3}\n",
    "s>s1"
   ]
  },
  {
   "cell_type": "markdown",
   "id": "13e9019f-118b-47c6-b73b-883b1613e675",
   "metadata": {},
   "source": [
    "33. Create a set from a string."
   ]
  },
  {
   "cell_type": "code",
   "execution_count": 102,
   "id": "41c9314f-6f2c-4278-b175-4c66d9952e21",
   "metadata": {},
   "outputs": [
    {
     "name": "stdout",
     "output_type": "stream",
     "text": [
      "{'World', 'Hello'} {'r', 'e', ' ', 'd', 'o', 'W', 'H', 'l'}\n"
     ]
    }
   ],
   "source": [
    "st = \"Hello World\"\n",
    "s1 = set(st)\n",
    "s2 = set(st.split())\n",
    "print(s2,s1)"
   ]
  },
  {
   "cell_type": "markdown",
   "id": "ded74b43-270a-4a86-9012-d0f73a708288",
   "metadata": {},
   "source": [
    "34. Convert a set of strings to a set of integers."
   ]
  },
  {
   "cell_type": "code",
   "execution_count": 106,
   "id": "66d95ddf-c7fc-45a3-bab8-b93f85cd90e9",
   "metadata": {},
   "outputs": [
    {
     "data": {
      "text/plain": [
       "{1, 2, 3, 4}"
      ]
     },
     "execution_count": 106,
     "metadata": {},
     "output_type": "execute_result"
    }
   ],
   "source": [
    "s = {'1','2', '3', '4'}\n",
    "\n",
    "s = set(map(int , s))\n",
    "s"
   ]
  },
  {
   "cell_type": "markdown",
   "id": "8ff3d909-a75f-4d2e-9c9c-70818628bf26",
   "metadata": {},
   "source": [
    "35. Convert a set of integers to a set of strings."
   ]
  },
  {
   "cell_type": "code",
   "execution_count": 107,
   "id": "e66365e1-e2b1-487e-ba53-dbb68a7a8587",
   "metadata": {},
   "outputs": [
    {
     "data": {
      "text/plain": [
       "{'1', '2', '3', '4'}"
      ]
     },
     "execution_count": 107,
     "metadata": {},
     "output_type": "execute_result"
    }
   ],
   "source": [
    "s = {1, 2, 3, 4}\n",
    "\n",
    "s=set(map(str, s))\n",
    "s"
   ]
  },
  {
   "cell_type": "markdown",
   "id": "406291e8-17f5-46de-a069-2d7888906a26",
   "metadata": {},
   "source": [
    "36. Create a set from a tuple."
   ]
  },
  {
   "cell_type": "code",
   "execution_count": 108,
   "id": "42efb4e3-c002-4605-9398-15e4bc1e92f7",
   "metadata": {},
   "outputs": [
    {
     "data": {
      "text/plain": [
       "{1, 2, 3}"
      ]
     },
     "execution_count": 108,
     "metadata": {},
     "output_type": "execute_result"
    }
   ],
   "source": [
    "t = (1,2,3)\n",
    "s = set(t)\n",
    "s"
   ]
  },
  {
   "cell_type": "markdown",
   "id": "6c57f6bf-ec76-4010-8c26-27762d9b9086",
   "metadata": {},
   "source": [
    "37. Convert a set to a tuple."
   ]
  },
  {
   "cell_type": "code",
   "execution_count": 110,
   "id": "6549d3ad-68bb-4f9f-a29b-885ae1287f9c",
   "metadata": {},
   "outputs": [
    {
     "data": {
      "text/plain": [
       "(1, 2, 3)"
      ]
     },
     "execution_count": 110,
     "metadata": {},
     "output_type": "execute_result"
    }
   ],
   "source": [
    "s = {1,2,3}\n",
    "t = tuple(s)\n",
    "t"
   ]
  },
  {
   "cell_type": "markdown",
   "id": "c396e71f-2061-4cf2-a84c-0fa51bafa37d",
   "metadata": {},
   "source": [
    "38. Find the maximum value in a set."
   ]
  },
  {
   "cell_type": "code",
   "execution_count": 111,
   "id": "37779518-015e-44b1-ab9e-82f83a0730bb",
   "metadata": {},
   "outputs": [
    {
     "data": {
      "text/plain": [
       "3"
      ]
     },
     "execution_count": 111,
     "metadata": {},
     "output_type": "execute_result"
    }
   ],
   "source": [
    "s = {1,2,3}\n",
    "max(s)"
   ]
  },
  {
   "cell_type": "markdown",
   "id": "fefa4056-7b8c-4522-a55e-998e0776ffa9",
   "metadata": {},
   "source": [
    "39. Find the minimum value in a set."
   ]
  },
  {
   "cell_type": "code",
   "execution_count": 112,
   "id": "268d641f-88f2-4955-9ab5-a5afc528f34c",
   "metadata": {},
   "outputs": [
    {
     "data": {
      "text/plain": [
       "1"
      ]
     },
     "execution_count": 112,
     "metadata": {},
     "output_type": "execute_result"
    }
   ],
   "source": [
    "s = {1,2,3}\n",
    "min(s)"
   ]
  },
  {
   "cell_type": "markdown",
   "id": "75c00ab2-0c1f-4fcb-b90b-df906f634d17",
   "metadata": {},
   "source": [
    "40. Create a set from user input."
   ]
  },
  {
   "cell_type": "code",
   "execution_count": 114,
   "id": "403b769f-ad5c-4bb5-b82f-0d5faa00130e",
   "metadata": {},
   "outputs": [
    {
     "name": "stdin",
     "output_type": "stream",
     "text": [
      "Enter size of set:  4\n",
      "Enter element:  2\n",
      "Enter element:  3\n",
      "Enter element:  4\n",
      "Enter element:  5\n"
     ]
    },
    {
     "name": "stdout",
     "output_type": "stream",
     "text": [
      "Set:  {2, 3, 4, 5}\n"
     ]
    }
   ],
   "source": [
    "n = int(input('Enter size of set: '))\n",
    "s = set()\n",
    "for i in range(n):\n",
    "    s.add(int(input('Enter element: ')))\n",
    "print('Set: ', s)"
   ]
  },
  {
   "cell_type": "markdown",
   "id": "ef65168c-0a03-4ed0-92b8-594023be0bc7",
   "metadata": {},
   "source": [
    "41. Check if the intersection of two sets is empty."
   ]
  },
  {
   "cell_type": "code",
   "execution_count": 117,
   "id": "e1755beb-320c-4535-98dd-5c91c10114d0",
   "metadata": {},
   "outputs": [
    {
     "data": {
      "text/plain": [
       "False"
      ]
     },
     "execution_count": 117,
     "metadata": {},
     "output_type": "execute_result"
    }
   ],
   "source": [
    "s = {1,2,3,4}\n",
    "s1 = {5,6,7,8}\n",
    "\n",
    "n = s.intersection(s1)\n",
    "bool(n)"
   ]
  },
  {
   "cell_type": "markdown",
   "id": "c9519d63-0a49-47bc-93eb-7dfd46f31b93",
   "metadata": {},
   "source": [
    "42. Create a set of the first 5 Fibonacci numbers."
   ]
  },
  {
   "cell_type": "code",
   "execution_count": 121,
   "id": "f4804d27-f7d2-43ae-9309-3479b3658745",
   "metadata": {},
   "outputs": [
    {
     "data": {
      "text/plain": [
       "{0, 1, 2, 3, 5}"
      ]
     },
     "execution_count": 121,
     "metadata": {},
     "output_type": "execute_result"
    }
   ],
   "source": [
    "t = []\n",
    "\n",
    "for i in range(6):\n",
    "    if i == 0 or i==1:\n",
    "        t.append(i)\n",
    "    else:\n",
    "        t.append(t[i-1]+t[i-2])\n",
    "        \n",
    "t = set(t)\n",
    "t"
   ]
  },
  {
   "cell_type": "markdown",
   "id": "92f82336-f9bd-4701-b0da-0a57ffec6de0",
   "metadata": {},
   "source": [
    "43. Remove duplicates from a list using sets."
   ]
  },
  {
   "cell_type": "code",
   "execution_count": 123,
   "id": "d8888bac-69ed-473a-a75a-e79b6f55376e",
   "metadata": {},
   "outputs": [
    {
     "data": {
      "text/plain": [
       "[32, 1, 2, 3, 4, 5, 6, 33, 7, 45, 56]"
      ]
     },
     "execution_count": 123,
     "metadata": {},
     "output_type": "execute_result"
    }
   ],
   "source": [
    "l = [1,2,3,3,3,4,5,5,6,33,4,2,3,33,4,4,5,7,6,56,5,4,4,3,32,45,6,6]\n",
    "\n",
    "l = list(set(l))\n",
    "l"
   ]
  },
  {
   "cell_type": "markdown",
   "id": "21d34889-8768-4d24-9373-991329e72071",
   "metadata": {},
   "source": [
    "44. Check if two sets have the same elements, regardless of their count."
   ]
  },
  {
   "cell_type": "code",
   "execution_count": 124,
   "id": "8c905f5a-d8ff-4527-93c7-56aa734e20b6",
   "metadata": {},
   "outputs": [
    {
     "name": "stdout",
     "output_type": "stream",
     "text": [
      "{6, 8, 15, 21, 23, 26} {3, 6, 8, 11, 13, 26}\n"
     ]
    },
    {
     "data": {
      "text/plain": [
       "{6, 8, 26}"
      ]
     },
     "execution_count": 124,
     "metadata": {},
     "output_type": "execute_result"
    }
   ],
   "source": [
    "s1 = {random.randint(1,30) for x in range(6)}\n",
    "s2 = {random.randint(1,30) for x in range(6)}\n",
    "print(s1,s2)\n",
    "\n",
    "same_elements = s1.intersection(s2)\n",
    "\n",
    "same_elements"
   ]
  },
  {
   "cell_type": "markdown",
   "id": "3748ec9d-0dfc-4771-a8de-4de8fbff310d",
   "metadata": {},
   "source": [
    "45. Create a set of the first `n` powers of 2."
   ]
  },
  {
   "cell_type": "code",
   "execution_count": 125,
   "id": "187bffd6-fce7-4a12-8214-6c037c091aa8",
   "metadata": {},
   "outputs": [
    {
     "data": {
      "text/plain": [
       "{1, 2, 4, 8, 16, 32, 64, 128, 256}"
      ]
     },
     "execution_count": 125,
     "metadata": {},
     "output_type": "execute_result"
    }
   ],
   "source": [
    "n = 9\n",
    "s = {2**i for i in range(n)}\n",
    "s"
   ]
  },
  {
   "cell_type": "markdown",
   "id": "568005cf-97e9-4575-ba13-5f95d1f82dd9",
   "metadata": {},
   "source": [
    "46. Find the common elements between a set and a list."
   ]
  },
  {
   "cell_type": "code",
   "execution_count": 126,
   "id": "c3d0a2da-2268-49e9-91bc-4f41fc463d5d",
   "metadata": {},
   "outputs": [
    {
     "name": "stdout",
     "output_type": "stream",
     "text": [
      "1\n",
      "3\n",
      "4\n"
     ]
    }
   ],
   "source": [
    "s = {1,2,3,4}\n",
    "l = [1,3,4,5]\n",
    "\n",
    "for i in s:\n",
    "    if i in l:\n",
    "        print(i)"
   ]
  },
  {
   "cell_type": "markdown",
   "id": "d6c4895f-e787-4183-9c4c-752cbb5da4be",
   "metadata": {},
   "source": [
    "47. Create a set of the first `n` triangular numbers."
   ]
  },
  {
   "cell_type": "code",
   "execution_count": 127,
   "id": "06f331a7-3892-4074-a3bb-fedfe0d58808",
   "metadata": {},
   "outputs": [
    {
     "data": {
      "text/plain": [
       "{1, 3, 6, 10, 15}"
      ]
     },
     "execution_count": 127,
     "metadata": {},
     "output_type": "execute_result"
    }
   ],
   "source": [
    "n =5\n",
    "l =[]\n",
    "for i in range(1, n + 1):\n",
    "    l.append( i*(i+1)//2)\n",
    "    \n",
    "l = set(l)\n",
    "l"
   ]
  },
  {
   "cell_type": "markdown",
   "id": "0c9e1367-2a02-4fa0-834a-cb73d2c51bca",
   "metadata": {},
   "source": [
    "48. Check if a set contains another set as a subset."
   ]
  },
  {
   "cell_type": "code",
   "execution_count": 129,
   "id": "34139286-6e87-49ff-ba24-0ab3131e9d64",
   "metadata": {},
   "outputs": [
    {
     "data": {
      "text/plain": [
       "True"
      ]
     },
     "execution_count": 129,
     "metadata": {},
     "output_type": "execute_result"
    }
   ],
   "source": [
    "s = {1,2,3,4,5,6,7,8,9}\n",
    "s1 = {7,8,9}\n",
    "\n",
    "s1.issubset(s)"
   ]
  },
  {
   "cell_type": "markdown",
   "id": "7dabe50e-2995-4102-acef-01fa39cb5945",
   "metadata": {},
   "source": [
    "49. Create a set of alternating 1s and 0s of length `n`."
   ]
  },
  {
   "cell_type": "code",
   "execution_count": 130,
   "id": "37196d24-e543-4b92-856f-cb4c803d0b8b",
   "metadata": {},
   "outputs": [
    {
     "data": {
      "text/plain": [
       "{0, 1}"
      ]
     },
     "execution_count": 130,
     "metadata": {},
     "output_type": "execute_result"
    }
   ],
   "source": [
    "s = set()\n",
    "\n",
    "for i in range(10):\n",
    "    if i%2==0:\n",
    "        s.add(1)\n",
    "    else:\n",
    "        s.add(0)\n",
    "s"
   ]
  },
  {
   "cell_type": "markdown",
   "id": "5ab9838f-99b3-42c4-a4c6-6948c6f023d3",
   "metadata": {},
   "source": [
    "50. Merge multiple sets into one."
   ]
  },
  {
   "cell_type": "code",
   "execution_count": 133,
   "id": "90421863-b8ad-43bb-99f4-cb9b2fc3a153",
   "metadata": {},
   "outputs": [
    {
     "data": {
      "text/plain": [
       "{1, 2, 3, 4, 5, 6, 7, 8}"
      ]
     },
     "execution_count": 133,
     "metadata": {},
     "output_type": "execute_result"
    }
   ],
   "source": [
    "s1 = {1,2}\n",
    "s2 = {3,4}\n",
    "s3 = {5,6}\n",
    "s4 = {7,8}\n",
    "\n",
    "s1.update(s2,s3,s4)\n",
    "s1"
   ]
  },
  {
   "cell_type": "code",
   "execution_count": null,
   "id": "0bbc09ba-27b4-4765-a06b-15c0da7a7d14",
   "metadata": {},
   "outputs": [],
   "source": []
  }
 ],
 "metadata": {
  "kernelspec": {
   "display_name": "Python 3 (ipykernel)",
   "language": "python",
   "name": "python3"
  },
  "language_info": {
   "codemirror_mode": {
    "name": "ipython",
    "version": 3
   },
   "file_extension": ".py",
   "mimetype": "text/x-python",
   "name": "python",
   "nbconvert_exporter": "python",
   "pygments_lexer": "ipython3",
   "version": "3.10.8"
  }
 },
 "nbformat": 4,
 "nbformat_minor": 5
}
