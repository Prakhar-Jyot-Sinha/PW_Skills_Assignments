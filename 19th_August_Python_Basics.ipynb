{
 "cells": [
  {
   "cell_type": "markdown",
   "id": "93fdf290-0194-45c0-bdf1-60ba09f14020",
   "metadata": {},
   "source": [
    "## TOPIC: Python Basics Variable"
   ]
  },
  {
   "cell_type": "markdown",
   "id": "908862a4-45a9-48fc-b477-3f921288d4ec",
   "metadata": {},
   "source": [
    "1. Declare two variables, `x` and `y`, and assign them integer values. Swap the\n",
    "values of these variables without using any temporary variable."
   ]
  },
  {
   "cell_type": "code",
   "execution_count": 6,
   "id": "e108531c-3ad2-4a25-938a-d4814064366d",
   "metadata": {},
   "outputs": [
    {
     "name": "stdout",
     "output_type": "stream",
     "text": [
      "x : 10, y : 20\n"
     ]
    }
   ],
   "source": [
    "#Declaring variables\n",
    "x = 10\n",
    "y = 20\n",
    "\n",
    "print(f\"x : {x}, y : {y}\")"
   ]
  },
  {
   "cell_type": "code",
   "execution_count": 7,
   "id": "52cd592e-309f-492a-84b8-ff1882ea3d55",
   "metadata": {},
   "outputs": [],
   "source": [
    "# swaping the variables without any temp variables\n",
    "x , y = y , x"
   ]
  },
  {
   "cell_type": "code",
   "execution_count": 8,
   "id": "705d4047-8856-48ba-9441-3a4d4c3cba5c",
   "metadata": {},
   "outputs": [
    {
     "name": "stdout",
     "output_type": "stream",
     "text": [
      "x : 20, y : 10\n"
     ]
    }
   ],
   "source": [
    "print(f\"x : {x}, y : {y}\")"
   ]
  },
  {
   "cell_type": "markdown",
   "id": "b91dad91-9a5a-4103-9522-05b7ea3e1697",
   "metadata": {},
   "source": [
    "2. Create a program that calculates the area of a rectangle. Take the length and\n",
    "width as inputs from the user and store them in variables. Calculate and\n",
    "display the area."
   ]
  },
  {
   "cell_type": "code",
   "execution_count": 12,
   "id": "61de1254-97df-4fec-b3c8-797c1eadcc30",
   "metadata": {},
   "outputs": [
    {
     "name": "stdin",
     "output_type": "stream",
     "text": [
      "Enter length of rectangle:  5\n",
      "Enter width of rectangle:  3\n"
     ]
    },
    {
     "name": "stdout",
     "output_type": "stream",
     "text": [
      "Area of the Rectangle is:  15\n"
     ]
    }
   ],
   "source": [
    "l = int(input('Enter length of rectangle: '))\n",
    "b = int(input('Enter width of rectangle: '))\n",
    "\n",
    "#calculating the area of rectangle ; \n",
    "\n",
    "a = l*b #area is lenght * width\n",
    "\n",
    "print('Area of the Rectangle is: ', a)"
   ]
  },
  {
   "cell_type": "markdown",
   "id": "63b369c6-d38c-43ac-a782-eb2ce20c79ed",
   "metadata": {},
   "source": [
    "3. Write a Python program that converts temperatures from Celsius to\n",
    "Fahrenheit. Take the temperature in Celsius as input, store it in a variable,\n",
    "convert it to Fahrenheit, and display the result."
   ]
  },
  {
   "cell_type": "code",
   "execution_count": 13,
   "id": "b2cd19db-f421-4c8c-8555-e22151590e84",
   "metadata": {},
   "outputs": [
    {
     "name": "stdin",
     "output_type": "stream",
     "text": [
      "Enter the temperature in celsius 39\n"
     ]
    },
    {
     "name": "stdout",
     "output_type": "stream",
     "text": [
      "Temp in Fahrenheit is:  102.2\n"
     ]
    }
   ],
   "source": [
    "c = float(input('Enter the temperature in celsius'))\n",
    "\n",
    "f = (1.8*c) + 32 #formula to convert celsius to fahrenheit\n",
    "\n",
    "print('Temp in Fahrenheit is: ',f)"
   ]
  },
  {
   "cell_type": "markdown",
   "id": "cade8fbb-0f42-446d-99a1-499a3b49f53f",
   "metadata": {},
   "source": [
    "## TOPIC: String Based Questions"
   ]
  },
  {
   "cell_type": "markdown",
   "id": "aa31996b-5c43-4480-8e33-0a082c383932",
   "metadata": {},
   "source": [
    "1. Write a Python program that takes a string as input and prints the length of\n",
    "the string."
   ]
  },
  {
   "cell_type": "code",
   "execution_count": 17,
   "id": "503e8f8d-fcbd-414f-b072-9b26969fa6fe",
   "metadata": {},
   "outputs": [
    {
     "name": "stdin",
     "output_type": "stream",
     "text": [
      "Please enter the string:  india\n"
     ]
    },
    {
     "name": "stdout",
     "output_type": "stream",
     "text": [
      "The length of string is:  5\n"
     ]
    }
   ],
   "source": [
    "s = input('Please enter the string: ')\n",
    "\n",
    "print('The length of string is: ', len(s)) #calculating lenght of string with len function"
   ]
  },
  {
   "cell_type": "markdown",
   "id": "7d36c49f-3d92-4b80-8898-b4a090a230df",
   "metadata": {},
   "source": [
    "2. Create a program that takes a sentence from the user and counts the number\n",
    "of vowels (a, e, i, o, u) in the string."
   ]
  },
  {
   "cell_type": "code",
   "execution_count": 24,
   "id": "1a8bcb16-39c9-40f6-8f84-3f54424688b4",
   "metadata": {},
   "outputs": [
    {
     "name": "stdin",
     "output_type": "stream",
     "text": [
      "Please enter the string:  I am a good boy and I live in Hyderabad\n"
     ]
    },
    {
     "data": {
      "text/plain": [
       "'i am a good boy and i live in hyderabad'"
      ]
     },
     "execution_count": 24,
     "metadata": {},
     "output_type": "execute_result"
    }
   ],
   "source": [
    "s = input('Please enter the string: ')\n",
    "s = s.lower() #as pyhthon is case sensitive so changing all char to lower case\n",
    "\n",
    "s"
   ]
  },
  {
   "cell_type": "code",
   "execution_count": 25,
   "id": "579376bf-9af5-4c12-86e0-70af039e14df",
   "metadata": {},
   "outputs": [
    {
     "name": "stdout",
     "output_type": "stream",
     "text": [
      "Number of vowels present in the given string are:  14\n"
     ]
    }
   ],
   "source": [
    "# count variable to count num of vowels present\n",
    "count = 0\n",
    "#using loop to count vowels in sentense\n",
    "for i in s:\n",
    "    if i in ['a', 'e', 'i', 'o', 'u']:\n",
    "        count=count+1\n",
    "\n",
    "print('Number of vowels present in the given string are: ', count)\n",
    "        "
   ]
  },
  {
   "cell_type": "markdown",
   "id": "041912ea-74a1-476d-9210-f62ef630d303",
   "metadata": {},
   "source": [
    "3. Given a string, reverse the order of characters using string slicing and print\n",
    "the reversed string."
   ]
  },
  {
   "cell_type": "code",
   "execution_count": 28,
   "id": "47890c91-8f40-4ccb-bfc6-fa27973b5858",
   "metadata": {},
   "outputs": [
    {
     "name": "stdin",
     "output_type": "stream",
     "text": [
      "Please enter the string:  I am a good boy and I live in Hyderabad\n"
     ]
    },
    {
     "name": "stdout",
     "output_type": "stream",
     "text": [
      "Reverse of the string is:  dabaredyH ni evil I dna yob doog a ma I\n"
     ]
    }
   ],
   "source": [
    "s = input('Please enter the string: ')\n",
    "rev_st = s[::-1] #reversing string using slicing\n",
    "\n",
    "print('Reverse of the string is: ', rev_st)"
   ]
  },
  {
   "cell_type": "markdown",
   "id": "a2f17608-e02e-4522-bbe7-53a067584047",
   "metadata": {},
   "source": [
    "4. Write a program that takes a string as input and checks if it is a palindrome\n",
    "(reads the same forwards and backwards)."
   ]
  },
  {
   "cell_type": "code",
   "execution_count": 27,
   "id": "dc9b7b9a-84ba-4bd6-9138-97186be81b5e",
   "metadata": {},
   "outputs": [
    {
     "name": "stdin",
     "output_type": "stream",
     "text": [
      "Please enter the string:  abcdcba\n"
     ]
    },
    {
     "name": "stdout",
     "output_type": "stream",
     "text": [
      "True, its a palindrome\n"
     ]
    }
   ],
   "source": [
    "s = input('Please enter the string: ')\n",
    "rev_st = s[::-1] #reversing string using slicing to check palindrome\n",
    "\n",
    "if s==rev_st:\n",
    "    print('True, its a palindrome')\n",
    "else:\n",
    "    print('False, its not a palindrome')"
   ]
  },
  {
   "cell_type": "markdown",
   "id": "a15f3a8c-3f9e-4876-99ae-715f4eea7984",
   "metadata": {},
   "source": [
    "5. Create a program that takes a string as input and removes all the spaces from\n",
    "it. Print the modified string without spaces."
   ]
  },
  {
   "cell_type": "code",
   "execution_count": 36,
   "id": "68896fe4-2819-4c76-930d-0ce0140f6950",
   "metadata": {},
   "outputs": [
    {
     "name": "stdin",
     "output_type": "stream",
     "text": [
      "Please enter the string:  I am a good boy and I live in Hyderabad\n"
     ]
    },
    {
     "name": "stdout",
     "output_type": "stream",
     "text": [
      "I am a good boy and I live in Hyderabad\n"
     ]
    }
   ],
   "source": [
    "s = input('Please enter the string: ')\n",
    "\n",
    "print(s)"
   ]
  },
  {
   "cell_type": "code",
   "execution_count": 37,
   "id": "5d36e2e7-88c3-4587-8a5c-0676c00e2fbf",
   "metadata": {},
   "outputs": [
    {
     "data": {
      "text/plain": [
       "'IamagoodboyandIliveinHyderabad'"
      ]
     },
     "execution_count": 37,
     "metadata": {},
     "output_type": "execute_result"
    }
   ],
   "source": [
    "s = s.replace(\" \", \"\") #usimg replace funtion to replace space with no-space from the sentence\n",
    "s"
   ]
  },
  {
   "cell_type": "code",
   "execution_count": null,
   "id": "360770b1-f9df-42ac-a005-3ae5a8f9ddd7",
   "metadata": {},
   "outputs": [],
   "source": []
  }
 ],
 "metadata": {
  "kernelspec": {
   "display_name": "Python 3 (ipykernel)",
   "language": "python",
   "name": "python3"
  },
  "language_info": {
   "codemirror_mode": {
    "name": "ipython",
    "version": 3
   },
   "file_extension": ".py",
   "mimetype": "text/x-python",
   "name": "python",
   "nbconvert_exporter": "python",
   "pygments_lexer": "ipython3",
   "version": "3.10.8"
  }
 },
 "nbformat": 4,
 "nbformat_minor": 5
}
